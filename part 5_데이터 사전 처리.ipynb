{
 "cells": [
  {
   "cell_type": "markdown",
   "metadata": {},
   "source": [
    "# Part 5. 데이터 사전 처리"
   ]
  },
  {
   "cell_type": "markdown",
   "metadata": {},
   "source": [
    "### 1. 누락 데이터 처리"
   ]
  },
  {
   "cell_type": "markdown",
   "metadata": {},
   "source": [
    "##### <예제 5-1> 누락 데이터 확인"
   ]
  },
  {
   "cell_type": "code",
   "execution_count": 1,
   "metadata": {
    "execution": {
     "iopub.status.idle": "2021-03-06T09:50:49.330755Z",
     "shell.execute_reply": "2021-03-06T09:50:49.329779Z",
     "shell.execute_reply.started": "2021-03-06T09:50:44.780369Z"
    }
   },
   "outputs": [],
   "source": [
    "import seaborn as sns\n",
    "import warnings\n",
    "warnings.filterwarnings('ignore')"
   ]
  },
  {
   "cell_type": "code",
   "execution_count": 2,
   "metadata": {
    "execution": {
     "iopub.execute_input": "2021-03-06T09:50:49.332750Z",
     "iopub.status.busy": "2021-03-06T09:50:49.331751Z",
     "iopub.status.idle": "2021-03-06T09:50:49.391638Z",
     "shell.execute_reply": "2021-03-06T09:50:49.390639Z",
     "shell.execute_reply.started": "2021-03-06T09:50:49.331751Z"
    }
   },
   "outputs": [
    {
     "name": "stdout",
     "output_type": "stream",
     "text": [
      "<class 'pandas.core.frame.DataFrame'>\n",
      "RangeIndex: 891 entries, 0 to 890\n",
      "Data columns (total 15 columns):\n",
      " #   Column       Non-Null Count  Dtype   \n",
      "---  ------       --------------  -----   \n",
      " 0   survived     891 non-null    int64   \n",
      " 1   pclass       891 non-null    int64   \n",
      " 2   sex          891 non-null    object  \n",
      " 3   age          714 non-null    float64 \n",
      " 4   sibsp        891 non-null    int64   \n",
      " 5   parch        891 non-null    int64   \n",
      " 6   fare         891 non-null    float64 \n",
      " 7   embarked     889 non-null    object  \n",
      " 8   class        891 non-null    category\n",
      " 9   who          891 non-null    object  \n",
      " 10  adult_male   891 non-null    bool    \n",
      " 11  deck         203 non-null    category\n",
      " 12  embark_town  889 non-null    object  \n",
      " 13  alive        891 non-null    object  \n",
      " 14  alone        891 non-null    bool    \n",
      "dtypes: bool(2), category(2), float64(2), int64(4), object(5)\n",
      "memory usage: 80.7+ KB\n"
     ]
    }
   ],
   "source": [
    "df = sns.load_dataset('titanic')\n",
    "df.info()"
   ]
  },
  {
   "cell_type": "code",
   "execution_count": 3,
   "metadata": {
    "execution": {
     "iopub.execute_input": "2021-03-06T09:50:49.392634Z",
     "iopub.status.busy": "2021-03-06T09:50:49.392634Z",
     "iopub.status.idle": "2021-03-06T09:50:49.406597Z",
     "shell.execute_reply": "2021-03-06T09:50:49.405599Z",
     "shell.execute_reply.started": "2021-03-06T09:50:49.392634Z"
    }
   },
   "outputs": [
    {
     "data": {
      "text/plain": [
       "survived         0\n",
       "pclass           0\n",
       "sex              0\n",
       "age            177\n",
       "sibsp            0\n",
       "parch            0\n",
       "fare             0\n",
       "embarked         2\n",
       "class            0\n",
       "who              0\n",
       "adult_male       0\n",
       "deck           688\n",
       "embark_town      2\n",
       "alive            0\n",
       "alone            0\n",
       "dtype: int64"
      ]
     },
     "execution_count": 3,
     "metadata": {},
     "output_type": "execute_result"
    }
   ],
   "source": [
    "df.isnull().sum()"
   ]
  },
  {
   "cell_type": "markdown",
   "metadata": {},
   "source": [
    "##### <예제 5-2> 누락 데이터 제거"
   ]
  },
  {
   "cell_type": "code",
   "execution_count": 4,
   "metadata": {
    "execution": {
     "iopub.execute_input": "2021-03-06T09:50:49.407595Z",
     "iopub.status.busy": "2021-03-06T09:50:49.407595Z",
     "iopub.status.idle": "2021-03-06T09:50:49.452475Z",
     "shell.execute_reply": "2021-03-06T09:50:49.451478Z",
     "shell.execute_reply.started": "2021-03-06T09:50:49.407595Z"
    }
   },
   "outputs": [
    {
     "name": "stdout",
     "output_type": "stream",
     "text": [
      "Index(['survived', 'pclass', 'sex', 'age', 'sibsp', 'parch', 'fare',\n",
      "       'embarked', 'class', 'who', 'adult_male', 'embark_town', 'alive',\n",
      "       'alone'],\n",
      "      dtype='object')\n"
     ]
    }
   ],
   "source": [
    "df_thresh = df.dropna(axis=1, thresh=500)\n",
    "print(df_thresh.columns)"
   ]
  },
  {
   "cell_type": "code",
   "execution_count": 5,
   "metadata": {
    "execution": {
     "iopub.execute_input": "2021-03-06T09:50:49.453472Z",
     "iopub.status.busy": "2021-03-06T09:50:49.453472Z",
     "iopub.status.idle": "2021-03-06T09:50:49.467434Z",
     "shell.execute_reply": "2021-03-06T09:50:49.467434Z",
     "shell.execute_reply.started": "2021-03-06T09:50:49.453472Z"
    }
   },
   "outputs": [
    {
     "name": "stdout",
     "output_type": "stream",
     "text": [
      "714\n"
     ]
    }
   ],
   "source": [
    "df_age = df.dropna(subset=['age'], how='any', axis=0)\n",
    "print(len(df_age))"
   ]
  },
  {
   "cell_type": "markdown",
   "metadata": {},
   "source": [
    "##### <예제 5-3> 평균으로 누락 데이터 바꾸기"
   ]
  },
  {
   "cell_type": "code",
   "execution_count": 6,
   "metadata": {
    "execution": {
     "iopub.execute_input": "2021-03-06T09:50:49.469429Z",
     "iopub.status.busy": "2021-03-06T09:50:49.468432Z",
     "iopub.status.idle": "2021-03-06T09:50:49.483392Z",
     "shell.execute_reply": "2021-03-06T09:50:49.482395Z",
     "shell.execute_reply.started": "2021-03-06T09:50:49.469429Z"
    }
   },
   "outputs": [
    {
     "data": {
      "text/plain": [
       "0"
      ]
     },
     "execution_count": 6,
     "metadata": {},
     "output_type": "execute_result"
    }
   ],
   "source": [
    "df['age'].fillna(df['age'].mean(axis=0), inplace=True)\n",
    "df['age'].isnull().sum()"
   ]
  },
  {
   "cell_type": "markdown",
   "metadata": {
    "execution": {
     "iopub.execute_input": "2021-03-04T09:30:06.357369Z",
     "iopub.status.busy": "2021-03-04T09:30:06.356371Z",
     "iopub.status.idle": "2021-03-04T09:30:06.377316Z",
     "shell.execute_reply": "2021-03-04T09:30:06.375321Z",
     "shell.execute_reply.started": "2021-03-04T09:30:06.357369Z"
    }
   },
   "source": [
    "##### <예제 5-4> 가장 많이 나타나는 값으로 바꾸기"
   ]
  },
  {
   "cell_type": "code",
   "execution_count": 7,
   "metadata": {
    "execution": {
     "iopub.execute_input": "2021-03-06T09:50:49.484390Z",
     "iopub.status.busy": "2021-03-06T09:50:49.483392Z",
     "iopub.status.idle": "2021-03-06T09:50:49.513311Z",
     "shell.execute_reply": "2021-03-06T09:50:49.512314Z",
     "shell.execute_reply.started": "2021-03-06T09:50:49.484390Z"
    }
   },
   "outputs": [
    {
     "name": "stdout",
     "output_type": "stream",
     "text": [
      "Southampton\n"
     ]
    },
    {
     "data": {
      "text/plain": [
       "0"
      ]
     },
     "execution_count": 7,
     "metadata": {},
     "output_type": "execute_result"
    }
   ],
   "source": [
    "most_freq = df['embark_town'].value_counts(dropna=True).idxmax()\n",
    "print(most_freq)\n",
    "\n",
    "df['embark_town'].fillna(most_freq, inplace=True)\n",
    "df['embark_town'].isnull().sum()"
   ]
  },
  {
   "cell_type": "code",
   "execution_count": 8,
   "metadata": {
    "execution": {
     "iopub.execute_input": "2021-03-06T09:50:49.515307Z",
     "iopub.status.busy": "2021-03-06T09:50:49.515307Z",
     "iopub.status.idle": "2021-03-06T09:50:49.529270Z",
     "shell.execute_reply": "2021-03-06T09:50:49.528272Z",
     "shell.execute_reply.started": "2021-03-06T09:50:49.515307Z"
    }
   },
   "outputs": [
    {
     "data": {
      "text/plain": [
       "0"
      ]
     },
     "execution_count": 8,
     "metadata": {},
     "output_type": "execute_result"
    }
   ],
   "source": [
    "df['embark_town'].isnull().sum()"
   ]
  },
  {
   "cell_type": "code",
   "execution_count": 9,
   "metadata": {
    "execution": {
     "iopub.execute_input": "2021-03-06T09:50:49.532262Z",
     "iopub.status.busy": "2021-03-06T09:50:49.531264Z",
     "iopub.status.idle": "2021-03-06T09:50:49.559189Z",
     "shell.execute_reply": "2021-03-06T09:50:49.559189Z",
     "shell.execute_reply.started": "2021-03-06T09:50:49.532262Z"
    }
   },
   "outputs": [
    {
     "data": {
      "text/plain": [
       "0"
      ]
     },
     "execution_count": 9,
     "metadata": {},
     "output_type": "execute_result"
    }
   ],
   "source": [
    "df = sns.load_dataset('titanic')\n",
    "df['embark_town'].fillna(method='ffill', inplace=True)\n",
    "df['embark_town'].isnull().sum()"
   ]
  },
  {
   "cell_type": "markdown",
   "metadata": {},
   "source": [
    "### 2. 중복 데이터 처리"
   ]
  },
  {
   "cell_type": "markdown",
   "metadata": {},
   "source": [
    "##### <예제 5-6> 중복 데이터 확인"
   ]
  },
  {
   "cell_type": "code",
   "execution_count": 10,
   "metadata": {
    "execution": {
     "iopub.execute_input": "2021-03-06T09:50:49.563394Z",
     "iopub.status.busy": "2021-03-06T09:50:49.562396Z",
     "iopub.status.idle": "2021-03-06T09:50:49.590321Z",
     "shell.execute_reply": "2021-03-06T09:50:49.589323Z",
     "shell.execute_reply.started": "2021-03-06T09:50:49.562396Z"
    }
   },
   "outputs": [
    {
     "name": "stdout",
     "output_type": "stream",
     "text": [
      "  c1  c2  c3\n",
      "0  a   1   1\n",
      "1  a   1   1\n",
      "2  b   1   2\n",
      "3  a   2   2\n",
      "4  b   2   2\n"
     ]
    }
   ],
   "source": [
    "import pandas as pd\n",
    "df = pd.DataFrame({'c1':['a', 'a', 'b', 'a', 'b'],\n",
    "                   'c2':[1, 1, 1, 2, 2],\n",
    "                   'c3':[1, 1, 2, 2, 2]})\n",
    "print(df)"
   ]
  },
  {
   "cell_type": "code",
   "execution_count": 11,
   "metadata": {
    "execution": {
     "iopub.execute_input": "2021-03-06T09:50:49.595308Z",
     "iopub.status.busy": "2021-03-06T09:50:49.594311Z",
     "iopub.status.idle": "2021-03-06T09:50:49.620242Z",
     "shell.execute_reply": "2021-03-06T09:50:49.619243Z",
     "shell.execute_reply.started": "2021-03-06T09:50:49.595308Z"
    }
   },
   "outputs": [
    {
     "data": {
      "text/plain": [
       "0    False\n",
       "1     True\n",
       "2    False\n",
       "3     True\n",
       "4     True\n",
       "Name: c1, dtype: bool"
      ]
     },
     "execution_count": 11,
     "metadata": {},
     "output_type": "execute_result"
    }
   ],
   "source": [
    "df['c1'].duplicated()"
   ]
  },
  {
   "cell_type": "code",
   "execution_count": 12,
   "metadata": {
    "execution": {
     "iopub.execute_input": "2021-03-06T09:50:49.621240Z",
     "iopub.status.busy": "2021-03-06T09:50:49.621240Z",
     "iopub.status.idle": "2021-03-06T09:50:49.635203Z",
     "shell.execute_reply": "2021-03-06T09:50:49.634204Z",
     "shell.execute_reply.started": "2021-03-06T09:50:49.621240Z"
    }
   },
   "outputs": [
    {
     "name": "stdout",
     "output_type": "stream",
     "text": [
      "  c1  c2  c3\n",
      "0  a   1   1\n",
      "2  b   1   2\n",
      "3  a   2   2\n"
     ]
    }
   ],
   "source": [
    "df.drop_duplicates(subset=['c2', 'c3'], inplace=True)\n",
    "print(df)"
   ]
  },
  {
   "cell_type": "markdown",
   "metadata": {},
   "source": [
    "### 3. 데이터 표준화"
   ]
  },
  {
   "cell_type": "markdown",
   "metadata": {},
   "source": [
    "##### <예제 5-8> 단위환산"
   ]
  },
  {
   "cell_type": "code",
   "execution_count": 13,
   "metadata": {
    "execution": {
     "iopub.execute_input": "2021-03-06T09:50:49.636199Z",
     "iopub.status.busy": "2021-03-06T09:50:49.636199Z",
     "iopub.status.idle": "2021-03-06T09:50:49.666119Z",
     "shell.execute_reply": "2021-03-06T09:50:49.665121Z",
     "shell.execute_reply.started": "2021-03-06T09:50:49.636199Z"
    }
   },
   "outputs": [
    {
     "data": {
      "text/html": [
       "<div>\n",
       "<style scoped>\n",
       "    .dataframe tbody tr th:only-of-type {\n",
       "        vertical-align: middle;\n",
       "    }\n",
       "\n",
       "    .dataframe tbody tr th {\n",
       "        vertical-align: top;\n",
       "    }\n",
       "\n",
       "    .dataframe thead th {\n",
       "        text-align: right;\n",
       "    }\n",
       "</style>\n",
       "<table border=\"1\" class=\"dataframe\">\n",
       "  <thead>\n",
       "    <tr style=\"text-align: right;\">\n",
       "      <th></th>\n",
       "      <th>mpg</th>\n",
       "      <th>cylinders</th>\n",
       "      <th>displacement</th>\n",
       "      <th>horsepower</th>\n",
       "      <th>weight</th>\n",
       "      <th>acceleration</th>\n",
       "      <th>model year</th>\n",
       "      <th>origin</th>\n",
       "      <th>name</th>\n",
       "    </tr>\n",
       "  </thead>\n",
       "  <tbody>\n",
       "    <tr>\n",
       "      <th>0</th>\n",
       "      <td>18.0</td>\n",
       "      <td>8</td>\n",
       "      <td>307.0</td>\n",
       "      <td>130.0</td>\n",
       "      <td>3504.0</td>\n",
       "      <td>12.0</td>\n",
       "      <td>70</td>\n",
       "      <td>1</td>\n",
       "      <td>chevrolet chevelle malibu</td>\n",
       "    </tr>\n",
       "    <tr>\n",
       "      <th>1</th>\n",
       "      <td>15.0</td>\n",
       "      <td>8</td>\n",
       "      <td>350.0</td>\n",
       "      <td>165.0</td>\n",
       "      <td>3693.0</td>\n",
       "      <td>11.5</td>\n",
       "      <td>70</td>\n",
       "      <td>1</td>\n",
       "      <td>buick skylark 320</td>\n",
       "    </tr>\n",
       "    <tr>\n",
       "      <th>2</th>\n",
       "      <td>18.0</td>\n",
       "      <td>8</td>\n",
       "      <td>318.0</td>\n",
       "      <td>150.0</td>\n",
       "      <td>3436.0</td>\n",
       "      <td>11.0</td>\n",
       "      <td>70</td>\n",
       "      <td>1</td>\n",
       "      <td>plymouth satellite</td>\n",
       "    </tr>\n",
       "  </tbody>\n",
       "</table>\n",
       "</div>"
      ],
      "text/plain": [
       "    mpg  cylinders  displacement horsepower  weight  acceleration  model year  \\\n",
       "0  18.0          8         307.0      130.0  3504.0          12.0          70   \n",
       "1  15.0          8         350.0      165.0  3693.0          11.5          70   \n",
       "2  18.0          8         318.0      150.0  3436.0          11.0          70   \n",
       "\n",
       "   origin                       name  \n",
       "0       1  chevrolet chevelle malibu  \n",
       "1       1          buick skylark 320  \n",
       "2       1         plymouth satellite  "
      ]
     },
     "execution_count": 13,
     "metadata": {},
     "output_type": "execute_result"
    }
   ],
   "source": [
    "df = pd.read_csv('part5/auto-mpg.csv', header=None)\n",
    "df.columns = ['mpg', 'cylinders', 'displacement', 'horsepower', 'weight',\n",
    "              'acceleration', 'model year', 'origin', 'name']\n",
    "df.head(3)"
   ]
  },
  {
   "cell_type": "code",
   "execution_count": 14,
   "metadata": {
    "execution": {
     "iopub.execute_input": "2021-03-06T09:50:49.667116Z",
     "iopub.status.busy": "2021-03-06T09:50:49.667116Z",
     "iopub.status.idle": "2021-03-06T09:50:49.681079Z",
     "shell.execute_reply": "2021-03-06T09:50:49.680081Z",
     "shell.execute_reply.started": "2021-03-06T09:50:49.667116Z"
    }
   },
   "outputs": [
    {
     "name": "stdout",
     "output_type": "stream",
     "text": [
      "    mpg  cylinders  displacement horsepower  weight  acceleration  model year  \\\n",
      "0  18.0          8         307.0      130.0  3504.0          12.0          70   \n",
      "1  15.0          8         350.0      165.0  3693.0          11.5          70   \n",
      "2  18.0          8         318.0      150.0  3436.0          11.0          70   \n",
      "\n",
      "   origin                       name       kpl  \n",
      "0       1  chevrolet chevelle malibu  7.652571  \n",
      "1       1          buick skylark 320  6.377143  \n",
      "2       1         plymouth satellite  7.652571  \n"
     ]
    }
   ],
   "source": [
    "mpg_to_kpl = 1.60934 / 3.78541\n",
    "df['kpl'] = df['mpg'] * mpg_to_kpl\n",
    "print(df.head(3))"
   ]
  },
  {
   "cell_type": "markdown",
   "metadata": {},
   "source": [
    "##### <예제 5-9> 자료형 변환"
   ]
  },
  {
   "cell_type": "code",
   "execution_count": 15,
   "metadata": {
    "execution": {
     "iopub.execute_input": "2021-03-06T09:50:49.682077Z",
     "iopub.status.busy": "2021-03-06T09:50:49.682077Z",
     "iopub.status.idle": "2021-03-06T09:50:49.696039Z",
     "shell.execute_reply": "2021-03-06T09:50:49.695041Z",
     "shell.execute_reply.started": "2021-03-06T09:50:49.682077Z"
    }
   },
   "outputs": [],
   "source": [
    "df = pd.read_csv('part5/auto-mpg.csv', header=None)\n",
    "df.columns = ['mpg', 'cylinders', 'displacement', 'horsepower', 'weight',\n",
    "              'acceleration', 'model year', 'origin', 'name']"
   ]
  },
  {
   "cell_type": "code",
   "execution_count": 16,
   "metadata": {
    "execution": {
     "iopub.execute_input": "2021-03-06T09:50:49.697036Z",
     "iopub.status.busy": "2021-03-06T09:50:49.697036Z",
     "iopub.status.idle": "2021-03-06T09:50:49.711997Z",
     "shell.execute_reply": "2021-03-06T09:50:49.710999Z",
     "shell.execute_reply.started": "2021-03-06T09:50:49.697036Z"
    }
   },
   "outputs": [
    {
     "name": "stdout",
     "output_type": "stream",
     "text": [
      "mpg             float64\n",
      "cylinders         int64\n",
      "displacement    float64\n",
      "horsepower       object\n",
      "weight          float64\n",
      "acceleration    float64\n",
      "model year        int64\n",
      "origin            int64\n",
      "name             object\n",
      "dtype: object\n"
     ]
    }
   ],
   "source": [
    "print(df.dtypes)"
   ]
  },
  {
   "cell_type": "code",
   "execution_count": 17,
   "metadata": {
    "execution": {
     "iopub.execute_input": "2021-03-06T09:50:49.712994Z",
     "iopub.status.busy": "2021-03-06T09:50:49.712994Z",
     "iopub.status.idle": "2021-03-06T09:50:49.726957Z",
     "shell.execute_reply": "2021-03-06T09:50:49.725959Z",
     "shell.execute_reply.started": "2021-03-06T09:50:49.712994Z"
    }
   },
   "outputs": [
    {
     "data": {
      "text/plain": [
       "array(['130.0', '165.0', '150.0', '140.0', '198.0', '220.0', '215.0',\n",
       "       '225.0', '190.0', '170.0', '160.0', '95.00', '97.00', '85.00',\n",
       "       '88.00', '46.00', '87.00', '90.00', '113.0', '200.0', '210.0',\n",
       "       '193.0', '?', '100.0', '105.0', '175.0', '153.0', '180.0', '110.0',\n",
       "       '72.00', '86.00', '70.00', '76.00', '65.00', '69.00', '60.00',\n",
       "       '80.00', '54.00', '208.0', '155.0', '112.0', '92.00', '145.0',\n",
       "       '137.0', '158.0', '167.0', '94.00', '107.0', '230.0', '49.00',\n",
       "       '75.00', '91.00', '122.0', '67.00', '83.00', '78.00', '52.00',\n",
       "       '61.00', '93.00', '148.0', '129.0', '96.00', '71.00', '98.00',\n",
       "       '115.0', '53.00', '81.00', '79.00', '120.0', '152.0', '102.0',\n",
       "       '108.0', '68.00', '58.00', '149.0', '89.00', '63.00', '48.00',\n",
       "       '66.00', '139.0', '103.0', '125.0', '133.0', '138.0', '135.0',\n",
       "       '142.0', '77.00', '62.00', '132.0', '84.00', '64.00', '74.00',\n",
       "       '116.0', '82.00'], dtype=object)"
      ]
     },
     "execution_count": 17,
     "metadata": {},
     "output_type": "execute_result"
    }
   ],
   "source": [
    "df['horsepower'].unique()"
   ]
  },
  {
   "cell_type": "code",
   "execution_count": 18,
   "metadata": {
    "execution": {
     "iopub.execute_input": "2021-03-06T09:50:49.727954Z",
     "iopub.status.busy": "2021-03-06T09:50:49.726957Z",
     "iopub.status.idle": "2021-03-06T09:50:49.741916Z",
     "shell.execute_reply": "2021-03-06T09:50:49.740921Z",
     "shell.execute_reply.started": "2021-03-06T09:50:49.727954Z"
    }
   },
   "outputs": [
    {
     "name": "stdout",
     "output_type": "stream",
     "text": [
      "float64\n"
     ]
    }
   ],
   "source": [
    "import numpy as np\n",
    "df['horsepower'].replace('?', np.nan, inplace=True)\n",
    "df.dropna(subset=['horsepower'], axis=0, inplace=True)\n",
    "df['horsepower'] = df['horsepower'].astype('float')\n",
    "print(df['horsepower'].dtypes)"
   ]
  },
  {
   "cell_type": "code",
   "execution_count": 19,
   "metadata": {
    "execution": {
     "iopub.execute_input": "2021-03-06T09:50:49.744910Z",
     "iopub.status.busy": "2021-03-06T09:50:49.743912Z",
     "iopub.status.idle": "2021-03-06T09:50:49.758872Z",
     "shell.execute_reply": "2021-03-06T09:50:49.756877Z",
     "shell.execute_reply.started": "2021-03-06T09:50:49.744910Z"
    }
   },
   "outputs": [
    {
     "name": "stdout",
     "output_type": "stream",
     "text": [
      "category\n"
     ]
    }
   ],
   "source": [
    "df['origin'].replace({1:'USA', 2:'EU', 3:'JPN'}, inplace=True)\n",
    "df['origin'] = df['origin'].astype('category')\n",
    "print(df['origin'].dtypes)"
   ]
  },
  {
   "cell_type": "code",
   "execution_count": 20,
   "metadata": {
    "execution": {
     "iopub.execute_input": "2021-03-06T09:50:49.760895Z",
     "iopub.status.busy": "2021-03-06T09:50:49.760895Z",
     "iopub.status.idle": "2021-03-06T09:50:49.772834Z",
     "shell.execute_reply": "2021-03-06T09:50:49.771835Z",
     "shell.execute_reply.started": "2021-03-06T09:50:49.760895Z"
    }
   },
   "outputs": [
    {
     "data": {
      "text/plain": [
       "0      USA\n",
       "1      USA\n",
       "2      USA\n",
       "3      USA\n",
       "4      USA\n",
       "      ... \n",
       "393    USA\n",
       "394     EU\n",
       "395    USA\n",
       "396    USA\n",
       "397    USA\n",
       "Name: origin, Length: 392, dtype: category\n",
       "Categories (3, object): ['EU', 'JPN', 'USA']"
      ]
     },
     "execution_count": 20,
     "metadata": {},
     "output_type": "execute_result"
    }
   ],
   "source": [
    "df['origin']"
   ]
  },
  {
   "cell_type": "code",
   "execution_count": 21,
   "metadata": {
    "execution": {
     "iopub.execute_input": "2021-03-06T09:50:49.773831Z",
     "iopub.status.busy": "2021-03-06T09:50:49.773831Z",
     "iopub.status.idle": "2021-03-06T09:50:49.788791Z",
     "shell.execute_reply": "2021-03-06T09:50:49.787793Z",
     "shell.execute_reply.started": "2021-03-06T09:50:49.773831Z"
    }
   },
   "outputs": [
    {
     "name": "stdout",
     "output_type": "stream",
     "text": [
      "category\n"
     ]
    }
   ],
   "source": [
    "df['model year'] = df['model year'].astype('category')\n",
    "print(df['model year'].dtypes)"
   ]
  },
  {
   "cell_type": "markdown",
   "metadata": {},
   "source": [
    "### 4. 범주형(카테고리) 데이터 처리"
   ]
  },
  {
   "cell_type": "markdown",
   "metadata": {},
   "source": [
    "##### <예제 5-10> 데이터 구간 ㅂ누할"
   ]
  },
  {
   "cell_type": "code",
   "execution_count": 22,
   "metadata": {
    "execution": {
     "iopub.execute_input": "2021-03-06T09:50:49.789789Z",
     "iopub.status.busy": "2021-03-06T09:50:49.789789Z",
     "iopub.status.idle": "2021-03-06T09:50:49.803751Z",
     "shell.execute_reply": "2021-03-06T09:50:49.802754Z",
     "shell.execute_reply.started": "2021-03-06T09:50:49.789789Z"
    }
   },
   "outputs": [],
   "source": [
    "df = pd.read_csv('part5/auto-mpg.csv', header=None)\n",
    "df.columns = ['mpg', 'cylinders', 'displacement', 'horsepower', 'weight',\n",
    "              'acceleration', 'model year', 'origin', 'name']\n",
    "\n",
    "df['horsepower'].replace('?', np.nan, inplace=True)\n",
    "df.dropna(subset=['horsepower'], axis=0, inplace=True)\n",
    "df['horsepower'] = df['horsepower'].astype('float')"
   ]
  },
  {
   "cell_type": "code",
   "execution_count": 23,
   "metadata": {
    "execution": {
     "iopub.execute_input": "2021-03-06T09:50:49.804749Z",
     "iopub.status.busy": "2021-03-06T09:50:49.804749Z",
     "iopub.status.idle": "2021-03-06T09:50:49.818711Z",
     "shell.execute_reply": "2021-03-06T09:50:49.817714Z",
     "shell.execute_reply.started": "2021-03-06T09:50:49.804749Z"
    }
   },
   "outputs": [
    {
     "name": "stdout",
     "output_type": "stream",
     "text": [
      "[257 103  32]\n",
      "[ 46.         107.33333333 168.66666667 230.        ]\n"
     ]
    }
   ],
   "source": [
    "count, bin_dividers = np.histogram(df['horsepower'], bins=3)\n",
    "print(count)\n",
    "print(bin_dividers)"
   ]
  },
  {
   "cell_type": "code",
   "execution_count": 24,
   "metadata": {
    "execution": {
     "iopub.execute_input": "2021-03-06T09:50:49.819709Z",
     "iopub.status.busy": "2021-03-06T09:50:49.819709Z",
     "iopub.status.idle": "2021-03-06T09:50:49.833671Z",
     "shell.execute_reply": "2021-03-06T09:50:49.832674Z",
     "shell.execute_reply.started": "2021-03-06T09:50:49.819709Z"
    }
   },
   "outputs": [
    {
     "name": "stdout",
     "output_type": "stream",
     "text": [
      "   horsepower hp_bin\n",
      "0       130.0   보통출력\n",
      "1       165.0   보통출력\n",
      "2       150.0   보통출력\n",
      "3       150.0   보통출력\n",
      "4       140.0   보통출력\n"
     ]
    }
   ],
   "source": [
    "bin_names = ['저출력', '보통출력', '고출력']\n",
    "df['hp_bin'] = pd.cut(df['horsepower'],\n",
    "                      bins=bin_dividers,\n",
    "                      labels=bin_names,\n",
    "                      include_lowest=True)\n",
    "print(df[['horsepower', 'hp_bin']].head())"
   ]
  },
  {
   "cell_type": "markdown",
   "metadata": {},
   "source": [
    "##### <예제 5-11> 더미변수"
   ]
  },
  {
   "cell_type": "code",
   "execution_count": 25,
   "metadata": {
    "execution": {
     "iopub.execute_input": "2021-03-06T09:50:49.834669Z",
     "iopub.status.busy": "2021-03-06T09:50:49.834669Z",
     "iopub.status.idle": "2021-03-06T09:50:49.848631Z",
     "shell.execute_reply": "2021-03-06T09:50:49.847633Z",
     "shell.execute_reply.started": "2021-03-06T09:50:49.834669Z"
    }
   },
   "outputs": [
    {
     "name": "stdout",
     "output_type": "stream",
     "text": [
      "   저출력  보통출력  고출력\n",
      "0    0     1    0\n",
      "1    0     1    0\n",
      "2    0     1    0\n",
      "3    0     1    0\n",
      "4    0     1    0\n"
     ]
    }
   ],
   "source": [
    "horse_dummies = pd.get_dummies(df['hp_bin'])\n",
    "print(horse_dummies.head())"
   ]
  },
  {
   "cell_type": "markdown",
   "metadata": {},
   "source": [
    "##### <예제 5-12> 원핫인코딩, 라벨인코딩"
   ]
  },
  {
   "cell_type": "code",
   "execution_count": 26,
   "metadata": {
    "execution": {
     "iopub.execute_input": "2021-03-06T09:50:49.849628Z",
     "iopub.status.busy": "2021-03-06T09:50:49.849628Z",
     "iopub.status.idle": "2021-03-06T09:50:51.508282Z",
     "shell.execute_reply": "2021-03-06T09:50:51.507284Z",
     "shell.execute_reply.started": "2021-03-06T09:50:49.849628Z"
    }
   },
   "outputs": [
    {
     "name": "stdout",
     "output_type": "stream",
     "text": [
      "[1 1 1 1 1 0 0 0 0 0]\n",
      "<class 'numpy.ndarray'>\n",
      "[[1]\n",
      " [1]\n",
      " [1]\n",
      " [1]\n",
      " [1]\n",
      " [0]\n",
      " [0]\n",
      " [0]\n",
      " [0]\n",
      " [0]]\n",
      "<class 'numpy.ndarray'>\n",
      "  (0, 1)\t1.0\n",
      "  (1, 1)\t1.0\n",
      "  (2, 1)\t1.0\n",
      "  (3, 1)\t1.0\n",
      "  (4, 1)\t1.0\n",
      "  (5, 0)\t1.0\n",
      "  (6, 0)\t1.0\n",
      "  (7, 0)\t1.0\n",
      "  (8, 0)\t1.0\n",
      "  (9, 0)\t1.0\n",
      "<class 'scipy.sparse.csr.csr_matrix'>\n"
     ]
    }
   ],
   "source": [
    "from sklearn import preprocessing\n",
    "\n",
    "# encoder 객체 생성\n",
    "label_encoder = preprocessing.LabelEncoder()\n",
    "onehot_encoder = preprocessing.OneHotEncoder()\n",
    "\n",
    "# label encoder\n",
    "onehot_labeled = label_encoder.fit_transform(df['hp_bin'].head(10))\n",
    "print(onehot_labeled)\n",
    "print(type(onehot_labeled))\n",
    "\n",
    "# 2차원 행렬로 형태 변경\n",
    "onehot_reshaped = onehot_labeled.reshape(len(onehot_labeled), 1)\n",
    "print(onehot_reshaped)\n",
    "print(type(onehot_reshaped))\n",
    "\n",
    "# 희소 행렬로 변환\n",
    "onehot_fitted = onehot_encoder.fit_transform(onehot_reshaped)\n",
    "print(onehot_fitted)\n",
    "print(type(onehot_fitted))"
   ]
  },
  {
   "cell_type": "markdown",
   "metadata": {},
   "source": [
    "### 5. 정규화"
   ]
  },
  {
   "cell_type": "code",
   "execution_count": 27,
   "metadata": {
    "execution": {
     "iopub.execute_input": "2021-03-06T09:50:51.513268Z",
     "iopub.status.busy": "2021-03-06T09:50:51.512285Z",
     "iopub.status.idle": "2021-03-06T09:50:51.538202Z",
     "shell.execute_reply": "2021-03-06T09:50:51.537204Z",
     "shell.execute_reply.started": "2021-03-06T09:50:51.513268Z"
    }
   },
   "outputs": [],
   "source": [
    "df = pd.read_csv('part5/auto-mpg.csv', header=None)\n",
    "df.columns = ['mpg', 'cylinders', 'displacement', 'horsepower', 'weight',\n",
    "              'acceleration', 'model year', 'origin', 'name']\n",
    "\n",
    "df['horsepower'].replace('?', np.nan, inplace=True)\n",
    "df.dropna(subset=['horsepower'], axis=0, inplace=True)\n",
    "df['horsepower'] = df['horsepower'].astype('float')"
   ]
  },
  {
   "cell_type": "markdown",
   "metadata": {},
   "source": [
    "$$x_{new} = \\frac{x}{x_{max}}$$"
   ]
  },
  {
   "cell_type": "code",
   "execution_count": 28,
   "metadata": {
    "execution": {
     "iopub.execute_input": "2021-03-06T09:50:51.540197Z",
     "iopub.status.busy": "2021-03-06T09:50:51.539199Z",
     "iopub.status.idle": "2021-03-06T09:50:51.554160Z",
     "shell.execute_reply": "2021-03-06T09:50:51.552165Z",
     "shell.execute_reply.started": "2021-03-06T09:50:51.540197Z"
    }
   },
   "outputs": [
    {
     "name": "stdout",
     "output_type": "stream",
     "text": [
      "count    392.000000\n",
      "mean     104.469388\n",
      "std       38.491160\n",
      "min       46.000000\n",
      "25%       75.000000\n",
      "50%       93.500000\n",
      "75%      126.000000\n",
      "max      230.000000\n",
      "Name: horsepower, dtype: float64\n"
     ]
    }
   ],
   "source": [
    "print(df['horsepower'].describe())"
   ]
  },
  {
   "cell_type": "code",
   "execution_count": 29,
   "metadata": {
    "execution": {
     "iopub.execute_input": "2021-03-06T09:50:51.557151Z",
     "iopub.status.busy": "2021-03-06T09:50:51.556154Z",
     "iopub.status.idle": "2021-03-06T09:50:51.569119Z",
     "shell.execute_reply": "2021-03-06T09:50:51.568121Z",
     "shell.execute_reply.started": "2021-03-06T09:50:51.557151Z"
    }
   },
   "outputs": [
    {
     "name": "stdout",
     "output_type": "stream",
     "text": [
      "count    392.000000\n",
      "mean       0.454215\n",
      "std        0.167353\n",
      "min        0.200000\n",
      "25%        0.326087\n",
      "50%        0.406522\n",
      "75%        0.547826\n",
      "max        1.000000\n",
      "Name: horsepower, dtype: float64\n"
     ]
    }
   ],
   "source": [
    "# 정규화 1\n",
    "df['horsepower'] = df['horsepower'] / abs(df['horsepower'].max())\n",
    "print(df['horsepower'].describe())"
   ]
  },
  {
   "cell_type": "markdown",
   "metadata": {},
   "source": [
    "$$x_{new} = \\frac{x-x_{min}}{x_{max}-x_{min}}$$"
   ]
  },
  {
   "cell_type": "code",
   "execution_count": 30,
   "metadata": {
    "execution": {
     "iopub.execute_input": "2021-03-06T09:50:51.571113Z",
     "iopub.status.busy": "2021-03-06T09:50:51.570117Z",
     "iopub.status.idle": "2021-03-06T09:50:51.584079Z",
     "shell.execute_reply": "2021-03-06T09:50:51.583082Z",
     "shell.execute_reply.started": "2021-03-06T09:50:51.571113Z"
    }
   },
   "outputs": [
    {
     "name": "stdout",
     "output_type": "stream",
     "text": [
      "count    392.000000\n",
      "mean       0.454215\n",
      "std        0.167353\n",
      "min        0.200000\n",
      "25%        0.326087\n",
      "50%        0.406522\n",
      "75%        0.547826\n",
      "max        1.000000\n",
      "Name: horsepower, dtype: float64\n"
     ]
    }
   ],
   "source": [
    "print(df['horsepower'].describe())"
   ]
  },
  {
   "cell_type": "code",
   "execution_count": 31,
   "metadata": {
    "execution": {
     "iopub.execute_input": "2021-03-06T09:50:51.585077Z",
     "iopub.status.busy": "2021-03-06T09:50:51.585077Z",
     "iopub.status.idle": "2021-03-06T09:50:51.601035Z",
     "shell.execute_reply": "2021-03-06T09:50:51.600037Z",
     "shell.execute_reply.started": "2021-03-06T09:50:51.585077Z"
    }
   },
   "outputs": [
    {
     "name": "stdout",
     "output_type": "stream",
     "text": [
      "count    392.000000\n",
      "mean       0.317768\n",
      "std        0.209191\n",
      "min        0.000000\n",
      "25%        0.157609\n",
      "50%        0.258152\n",
      "75%        0.434783\n",
      "max        1.000000\n",
      "Name: horsepower, dtype: float64\n"
     ]
    }
   ],
   "source": [
    "# 정규화 2\n",
    "min_x = df['horsepower'] - df['horsepower'].min()\n",
    "min_max = df['horsepower'].max() - df['horsepower'].min()\n",
    "df['horsepower'] = min_x / min_max\n",
    "print(df['horsepower'].describe())"
   ]
  },
  {
   "cell_type": "markdown",
   "metadata": {},
   "source": [
    "### 6. 시계열 데이터"
   ]
  },
  {
   "cell_type": "markdown",
   "metadata": {},
   "source": [
    "##### <예제 5-15> 문자열을 Timestamp로 변환"
   ]
  },
  {
   "cell_type": "code",
   "execution_count": 32,
   "metadata": {
    "execution": {
     "iopub.execute_input": "2021-03-06T09:50:51.604027Z",
     "iopub.status.busy": "2021-03-06T09:50:51.603028Z",
     "iopub.status.idle": "2021-03-06T09:50:51.615994Z",
     "shell.execute_reply": "2021-03-06T09:50:51.613999Z",
     "shell.execute_reply.started": "2021-03-06T09:50:51.604027Z"
    }
   },
   "outputs": [],
   "source": [
    "import pandas as pd"
   ]
  },
  {
   "cell_type": "code",
   "execution_count": 33,
   "metadata": {
    "execution": {
     "iopub.execute_input": "2021-03-06T09:50:51.617989Z",
     "iopub.status.busy": "2021-03-06T09:50:51.617989Z",
     "iopub.status.idle": "2021-03-06T09:50:51.645913Z",
     "shell.execute_reply": "2021-03-06T09:50:51.644917Z",
     "shell.execute_reply.started": "2021-03-06T09:50:51.617989Z"
    }
   },
   "outputs": [
    {
     "data": {
      "text/html": [
       "<div>\n",
       "<style scoped>\n",
       "    .dataframe tbody tr th:only-of-type {\n",
       "        vertical-align: middle;\n",
       "    }\n",
       "\n",
       "    .dataframe tbody tr th {\n",
       "        vertical-align: top;\n",
       "    }\n",
       "\n",
       "    .dataframe thead th {\n",
       "        text-align: right;\n",
       "    }\n",
       "</style>\n",
       "<table border=\"1\" class=\"dataframe\">\n",
       "  <thead>\n",
       "    <tr style=\"text-align: right;\">\n",
       "      <th></th>\n",
       "      <th>Date</th>\n",
       "      <th>Close</th>\n",
       "      <th>Start</th>\n",
       "      <th>High</th>\n",
       "      <th>Low</th>\n",
       "      <th>Volume</th>\n",
       "    </tr>\n",
       "  </thead>\n",
       "  <tbody>\n",
       "    <tr>\n",
       "      <th>0</th>\n",
       "      <td>2018-07-02</td>\n",
       "      <td>10100</td>\n",
       "      <td>10850</td>\n",
       "      <td>10900</td>\n",
       "      <td>10000</td>\n",
       "      <td>137977</td>\n",
       "    </tr>\n",
       "    <tr>\n",
       "      <th>1</th>\n",
       "      <td>2018-06-29</td>\n",
       "      <td>10700</td>\n",
       "      <td>10550</td>\n",
       "      <td>10900</td>\n",
       "      <td>9990</td>\n",
       "      <td>170253</td>\n",
       "    </tr>\n",
       "    <tr>\n",
       "      <th>2</th>\n",
       "      <td>2018-06-28</td>\n",
       "      <td>10400</td>\n",
       "      <td>10900</td>\n",
       "      <td>10950</td>\n",
       "      <td>10150</td>\n",
       "      <td>155769</td>\n",
       "    </tr>\n",
       "    <tr>\n",
       "      <th>3</th>\n",
       "      <td>2018-06-27</td>\n",
       "      <td>10900</td>\n",
       "      <td>10800</td>\n",
       "      <td>11050</td>\n",
       "      <td>10500</td>\n",
       "      <td>133548</td>\n",
       "    </tr>\n",
       "    <tr>\n",
       "      <th>4</th>\n",
       "      <td>2018-06-26</td>\n",
       "      <td>10800</td>\n",
       "      <td>10900</td>\n",
       "      <td>11000</td>\n",
       "      <td>10700</td>\n",
       "      <td>63039</td>\n",
       "    </tr>\n",
       "  </tbody>\n",
       "</table>\n",
       "</div>"
      ],
      "text/plain": [
       "         Date  Close  Start   High    Low  Volume\n",
       "0  2018-07-02  10100  10850  10900  10000  137977\n",
       "1  2018-06-29  10700  10550  10900   9990  170253\n",
       "2  2018-06-28  10400  10900  10950  10150  155769\n",
       "3  2018-06-27  10900  10800  11050  10500  133548\n",
       "4  2018-06-26  10800  10900  11000  10700   63039"
      ]
     },
     "execution_count": 33,
     "metadata": {},
     "output_type": "execute_result"
    }
   ],
   "source": [
    "df = pd.read_csv('part5/stock-data.csv')\n",
    "df.head()"
   ]
  },
  {
   "cell_type": "code",
   "execution_count": 34,
   "metadata": {
    "execution": {
     "iopub.execute_input": "2021-03-06T09:50:51.646911Z",
     "iopub.status.busy": "2021-03-06T09:50:51.646911Z",
     "iopub.status.idle": "2021-03-06T09:50:51.676832Z",
     "shell.execute_reply": "2021-03-06T09:50:51.675833Z",
     "shell.execute_reply.started": "2021-03-06T09:50:51.646911Z"
    }
   },
   "outputs": [
    {
     "name": "stdout",
     "output_type": "stream",
     "text": [
      "         Date  Close  Start   High    Low  Volume   new_Date\n",
      "0  2018-07-02  10100  10850  10900  10000  137977 2018-07-02\n",
      "1  2018-06-29  10700  10550  10900   9990  170253 2018-06-29\n",
      "2  2018-06-28  10400  10900  10950  10150  155769 2018-06-28\n",
      "3  2018-06-27  10900  10800  11050  10500  133548 2018-06-27\n",
      "4  2018-06-26  10800  10900  11000  10700   63039 2018-06-26\n",
      "<class 'pandas.core.frame.DataFrame'>\n",
      "RangeIndex: 20 entries, 0 to 19\n",
      "Data columns (total 7 columns):\n",
      " #   Column    Non-Null Count  Dtype         \n",
      "---  ------    --------------  -----         \n",
      " 0   Date      20 non-null     object        \n",
      " 1   Close     20 non-null     int64         \n",
      " 2   Start     20 non-null     int64         \n",
      " 3   High      20 non-null     int64         \n",
      " 4   Low       20 non-null     int64         \n",
      " 5   Volume    20 non-null     int64         \n",
      " 6   new_Date  20 non-null     datetime64[ns]\n",
      "dtypes: datetime64[ns](1), int64(5), object(1)\n",
      "memory usage: 1.2+ KB\n",
      "None\n"
     ]
    }
   ],
   "source": [
    "df['new_Date'] = pd.to_datetime(df['Date'])\n",
    "\n",
    "print(df.head())\n",
    "print(df.info())"
   ]
  },
  {
   "cell_type": "code",
   "execution_count": 35,
   "metadata": {
    "execution": {
     "iopub.execute_input": "2021-03-06T09:50:51.678827Z",
     "iopub.status.busy": "2021-03-06T09:50:51.677829Z",
     "iopub.status.idle": "2021-03-06T09:50:51.691790Z",
     "shell.execute_reply": "2021-03-06T09:50:51.690793Z",
     "shell.execute_reply.started": "2021-03-06T09:50:51.677829Z"
    }
   },
   "outputs": [
    {
     "name": "stdout",
     "output_type": "stream",
     "text": [
      "            Close  Start   High    Low  Volume\n",
      "new_Date                                      \n",
      "2018-07-02  10100  10850  10900  10000  137977\n",
      "2018-06-29  10700  10550  10900   9990  170253\n",
      "2018-06-28  10400  10900  10950  10150  155769\n"
     ]
    }
   ],
   "source": [
    "df.set_index('new_Date', inplace=True)\n",
    "df.drop('Date', axis=1, inplace=True)\n",
    "\n",
    "print(df.head(3))"
   ]
  },
  {
   "cell_type": "code",
   "execution_count": 36,
   "metadata": {
    "execution": {
     "iopub.execute_input": "2021-03-06T09:50:51.692789Z",
     "iopub.status.busy": "2021-03-06T09:50:51.692789Z",
     "iopub.status.idle": "2021-03-06T09:50:51.706751Z",
     "shell.execute_reply": "2021-03-06T09:50:51.705753Z",
     "shell.execute_reply.started": "2021-03-06T09:50:51.692789Z"
    }
   },
   "outputs": [
    {
     "name": "stdout",
     "output_type": "stream",
     "text": [
      "<class 'pandas.core.frame.DataFrame'>\n",
      "DatetimeIndex: 20 entries, 2018-07-02 to 2018-06-01\n",
      "Data columns (total 5 columns):\n",
      " #   Column  Non-Null Count  Dtype\n",
      "---  ------  --------------  -----\n",
      " 0   Close   20 non-null     int64\n",
      " 1   Start   20 non-null     int64\n",
      " 2   High    20 non-null     int64\n",
      " 3   Low     20 non-null     int64\n",
      " 4   Volume  20 non-null     int64\n",
      "dtypes: int64(5)\n",
      "memory usage: 960.0 bytes\n",
      "None\n"
     ]
    }
   ],
   "source": [
    "print(df.info())"
   ]
  },
  {
   "cell_type": "markdown",
   "metadata": {},
   "source": [
    "##### <예제 5-16> Timestamp를 Period로 변환"
   ]
  },
  {
   "cell_type": "code",
   "execution_count": 37,
   "metadata": {
    "execution": {
     "iopub.execute_input": "2021-03-06T09:50:51.707748Z",
     "iopub.status.busy": "2021-03-06T09:50:51.707748Z",
     "iopub.status.idle": "2021-03-06T09:50:51.722709Z",
     "shell.execute_reply": "2021-03-06T09:50:51.721711Z",
     "shell.execute_reply.started": "2021-03-06T09:50:51.707748Z"
    }
   },
   "outputs": [
    {
     "name": "stdout",
     "output_type": "stream",
     "text": [
      "DatetimeIndex(['2019-01-01', '2020-03-01', '2021-06-01'], dtype='datetime64[ns]', freq=None)\n"
     ]
    }
   ],
   "source": [
    "dates = ['2019-01-01', '2020-03-01', '2021-06-01']\n",
    "ts_dates = pd.to_datetime(dates)\n",
    "print(ts_dates)"
   ]
  },
  {
   "cell_type": "code",
   "execution_count": 38,
   "metadata": {
    "execution": {
     "iopub.execute_input": "2021-03-06T09:50:51.724703Z",
     "iopub.status.busy": "2021-03-06T09:50:51.724703Z",
     "iopub.status.idle": "2021-03-06T09:50:51.738666Z",
     "shell.execute_reply": "2021-03-06T09:50:51.737669Z",
     "shell.execute_reply.started": "2021-03-06T09:50:51.724703Z"
    }
   },
   "outputs": [
    {
     "data": {
      "text/plain": [
       "PeriodIndex(['2019-01-01', '2020-03-01', '2021-06-01'], dtype='period[D]', freq='D')"
      ]
     },
     "execution_count": 38,
     "metadata": {},
     "output_type": "execute_result"
    }
   ],
   "source": [
    "ts_dates.to_period(freq='D')"
   ]
  },
  {
   "cell_type": "code",
   "execution_count": 39,
   "metadata": {
    "execution": {
     "iopub.execute_input": "2021-03-06T09:50:51.739663Z",
     "iopub.status.busy": "2021-03-06T09:50:51.739663Z",
     "iopub.status.idle": "2021-03-06T09:50:51.754623Z",
     "shell.execute_reply": "2021-03-06T09:50:51.753625Z",
     "shell.execute_reply.started": "2021-03-06T09:50:51.739663Z"
    }
   },
   "outputs": [
    {
     "data": {
      "text/plain": [
       "PeriodIndex(['2019-01', '2020-03', '2021-06'], dtype='period[M]', freq='M')"
      ]
     },
     "execution_count": 39,
     "metadata": {},
     "output_type": "execute_result"
    }
   ],
   "source": [
    "ts_dates.to_period(freq='M')"
   ]
  },
  {
   "cell_type": "code",
   "execution_count": 40,
   "metadata": {
    "execution": {
     "iopub.execute_input": "2021-03-06T09:50:51.755621Z",
     "iopub.status.busy": "2021-03-06T09:50:51.755621Z",
     "iopub.status.idle": "2021-03-06T09:50:51.769583Z",
     "shell.execute_reply": "2021-03-06T09:50:51.768585Z",
     "shell.execute_reply.started": "2021-03-06T09:50:51.755621Z"
    }
   },
   "outputs": [
    {
     "data": {
      "text/plain": [
       "PeriodIndex(['2019', '2020', '2021'], dtype='period[A-DEC]', freq='A-DEC')"
      ]
     },
     "execution_count": 40,
     "metadata": {},
     "output_type": "execute_result"
    }
   ],
   "source": [
    "ts_dates.to_period(freq='A')"
   ]
  },
  {
   "cell_type": "markdown",
   "metadata": {},
   "source": [
    "##### <예제 5-17> Timestamp 배열 만들기"
   ]
  },
  {
   "cell_type": "code",
   "execution_count": 41,
   "metadata": {
    "execution": {
     "iopub.execute_input": "2021-03-06T09:50:51.770581Z",
     "iopub.status.busy": "2021-03-06T09:50:51.770581Z",
     "iopub.status.idle": "2021-03-06T09:50:52.333077Z",
     "shell.execute_reply": "2021-03-06T09:50:52.332078Z",
     "shell.execute_reply.started": "2021-03-06T09:50:51.770581Z"
    }
   },
   "outputs": [
    {
     "data": {
      "text/plain": [
       "DatetimeIndex(['2021-01-01 00:00:00+09:00', '2021-04-01 00:00:00+09:00',\n",
       "               '2021-07-01 00:00:00+09:00', '2021-10-01 00:00:00+09:00',\n",
       "               '2022-01-01 00:00:00+09:00', '2022-04-01 00:00:00+09:00'],\n",
       "              dtype='datetime64[ns, Asia/Seoul]', freq='3MS')"
      ]
     },
     "execution_count": 41,
     "metadata": {},
     "output_type": "execute_result"
    }
   ],
   "source": [
    "pd.date_range(start='2021-01-01', end=None, periods=6, freq='3MS', tz='Asia/Seoul')"
   ]
  },
  {
   "cell_type": "markdown",
   "metadata": {},
   "source": [
    "##### <예제 5-18> Period 배열 만들기"
   ]
  },
  {
   "cell_type": "code",
   "execution_count": 42,
   "metadata": {
    "execution": {
     "iopub.execute_input": "2021-03-06T09:50:52.334095Z",
     "iopub.status.busy": "2021-03-06T09:50:52.334095Z",
     "iopub.status.idle": "2021-03-06T09:50:52.348037Z",
     "shell.execute_reply": "2021-03-06T09:50:52.347039Z",
     "shell.execute_reply.started": "2021-03-06T09:50:52.334095Z"
    }
   },
   "outputs": [
    {
     "data": {
      "text/plain": [
       "PeriodIndex(['2021-03-01 00:00', '2021-03-01 02:00', '2021-03-01 04:00',\n",
       "             '2021-03-01 06:00'],\n",
       "            dtype='period[2H]', freq='2H')"
      ]
     },
     "execution_count": 42,
     "metadata": {},
     "output_type": "execute_result"
    }
   ],
   "source": [
    "pd.period_range(start='2021-03-01', periods=4, freq='2H')"
   ]
  },
  {
   "cell_type": "markdown",
   "metadata": {},
   "source": [
    "##### <예제 5-19> 날짜 데이터 분리"
   ]
  },
  {
   "cell_type": "code",
   "execution_count": 43,
   "metadata": {
    "execution": {
     "iopub.execute_input": "2021-03-06T09:50:52.351028Z",
     "iopub.status.busy": "2021-03-06T09:50:52.350031Z",
     "iopub.status.idle": "2021-03-06T09:50:52.378852Z",
     "shell.execute_reply": "2021-03-06T09:50:52.377955Z",
     "shell.execute_reply.started": "2021-03-06T09:50:52.351028Z"
    }
   },
   "outputs": [
    {
     "name": "stdout",
     "output_type": "stream",
     "text": [
      "         Date  Close  Start   High    Low  Volume   new_Date\n",
      "0  2018-07-02  10100  10850  10900  10000  137977 2018-07-02\n",
      "1  2018-06-29  10700  10550  10900   9990  170253 2018-06-29\n",
      "2  2018-06-28  10400  10900  10950  10150  155769 2018-06-28\n",
      "3  2018-06-27  10900  10800  11050  10500  133548 2018-06-27\n",
      "4  2018-06-26  10800  10900  11000  10700   63039 2018-06-26\n"
     ]
    }
   ],
   "source": [
    "df = pd.read_csv('part5/stock-data.csv')\n",
    "df['new_Date'] = pd.to_datetime(df['Date'])\n",
    "\n",
    "print(df.head())"
   ]
  },
  {
   "cell_type": "code",
   "execution_count": 44,
   "metadata": {
    "execution": {
     "iopub.execute_input": "2021-03-06T09:50:52.379842Z",
     "iopub.status.busy": "2021-03-06T09:50:52.379842Z",
     "iopub.status.idle": "2021-03-06T09:50:52.393805Z",
     "shell.execute_reply": "2021-03-06T09:50:52.392821Z",
     "shell.execute_reply.started": "2021-03-06T09:50:52.379842Z"
    }
   },
   "outputs": [
    {
     "name": "stdout",
     "output_type": "stream",
     "text": [
      "         Date  Close  Start   High    Low  Volume   new_Date  Year  Month  Day\n",
      "0  2018-07-02  10100  10850  10900  10000  137977 2018-07-02  2018      7    2\n",
      "1  2018-06-29  10700  10550  10900   9990  170253 2018-06-29  2018      6   29\n",
      "2  2018-06-28  10400  10900  10950  10150  155769 2018-06-28  2018      6   28\n"
     ]
    }
   ],
   "source": [
    "df['Year'] = df['new_Date'].dt.year\n",
    "df['Month'] = df['new_Date'].dt.month\n",
    "df['Day'] = df['new_Date'].dt.day\n",
    "print(df.head(3))"
   ]
  },
  {
   "cell_type": "code",
   "execution_count": 45,
   "metadata": {
    "execution": {
     "iopub.execute_input": "2021-03-06T09:50:52.396797Z",
     "iopub.status.busy": "2021-03-06T09:50:52.395801Z",
     "iopub.status.idle": "2021-03-06T09:50:52.423724Z",
     "shell.execute_reply": "2021-03-06T09:50:52.423724Z",
     "shell.execute_reply.started": "2021-03-06T09:50:52.395801Z"
    }
   },
   "outputs": [
    {
     "name": "stdout",
     "output_type": "stream",
     "text": [
      "         Date  Close  Start   High    Low  Volume   new_Date  Year  Month  \\\n",
      "0  2018-07-02  10100  10850  10900  10000  137977 2018-07-02  2018      7   \n",
      "1  2018-06-29  10700  10550  10900   9990  170253 2018-06-29  2018      6   \n",
      "2  2018-06-28  10400  10900  10950  10150  155769 2018-06-28  2018      6   \n",
      "\n",
      "   Day Date_yr   Date_m  \n",
      "0    2    2018  2018-07  \n",
      "1   29    2018  2018-06  \n",
      "2   28    2018  2018-06  \n"
     ]
    }
   ],
   "source": [
    "df['Date_yr'] = df['new_Date'].dt.to_period(freq='A')\n",
    "df['Date_m'] = df['new_Date'].dt.to_period(freq='M')\n",
    "print(df.head(3))"
   ]
  },
  {
   "cell_type": "markdown",
   "metadata": {},
   "source": [
    "##### <예제 5-20> 날짜 인덱스 활용"
   ]
  },
  {
   "cell_type": "code",
   "execution_count": 46,
   "metadata": {
    "execution": {
     "iopub.execute_input": "2021-03-06T09:50:52.425719Z",
     "iopub.status.busy": "2021-03-06T09:50:52.424723Z",
     "iopub.status.idle": "2021-03-06T09:50:52.439682Z",
     "shell.execute_reply": "2021-03-06T09:50:52.438685Z",
     "shell.execute_reply.started": "2021-03-06T09:50:52.425719Z"
    }
   },
   "outputs": [
    {
     "name": "stdout",
     "output_type": "stream",
     "text": [
      "                  Date  Close  Start   High    Low  Volume\n",
      "new_Date                                                  \n",
      "2018-07-02  2018-07-02  10100  10850  10900  10000  137977\n",
      "2018-06-29  2018-06-29  10700  10550  10900   9990  170253\n",
      "2018-06-28  2018-06-28  10400  10900  10950  10150  155769\n"
     ]
    }
   ],
   "source": [
    "df = pd.read_csv('part5/stock-data.csv')\n",
    "df['new_Date'] = pd.to_datetime(df['Date'])\n",
    "df.set_index('new_Date', inplace=True)\n",
    "print(df.head(3))"
   ]
  },
  {
   "cell_type": "code",
   "execution_count": 47,
   "metadata": {
    "execution": {
     "iopub.execute_input": "2021-03-06T09:50:52.440680Z",
     "iopub.status.busy": "2021-03-06T09:50:52.440680Z",
     "iopub.status.idle": "2021-03-06T09:50:52.454642Z",
     "shell.execute_reply": "2021-03-06T09:50:52.453646Z",
     "shell.execute_reply.started": "2021-03-06T09:50:52.440680Z"
    }
   },
   "outputs": [
    {
     "name": "stdout",
     "output_type": "stream",
     "text": [
      "                  Date  Close  Start   High    Low  Volume\n",
      "new_Date                                                  \n",
      "2018-07-02  2018-07-02  10100  10850  10900  10000  137977\n",
      "2018-06-29  2018-06-29  10700  10550  10900   9990  170253\n",
      "2018-06-28  2018-06-28  10400  10900  10950  10150  155769\n"
     ]
    }
   ],
   "source": [
    "print(df['2018'].head(3))"
   ]
  },
  {
   "cell_type": "code",
   "execution_count": 48,
   "metadata": {
    "execution": {
     "iopub.execute_input": "2021-03-06T09:50:52.455640Z",
     "iopub.status.busy": "2021-03-06T09:50:52.455640Z",
     "iopub.status.idle": "2021-03-06T09:50:52.469602Z",
     "shell.execute_reply": "2021-03-06T09:50:52.468606Z",
     "shell.execute_reply.started": "2021-03-06T09:50:52.455640Z"
    }
   },
   "outputs": [
    {
     "name": "stdout",
     "output_type": "stream",
     "text": [
      "                  Date  Close  Start   High    Low  Volume\n",
      "new_Date                                                  \n",
      "2018-07-02  2018-07-02  10100  10850  10900  10000  137977\n"
     ]
    }
   ],
   "source": [
    "print(df['2018-07'])"
   ]
  },
  {
   "cell_type": "code",
   "execution_count": 49,
   "metadata": {
    "execution": {
     "iopub.execute_input": "2021-03-06T09:50:52.470600Z",
     "iopub.status.busy": "2021-03-06T09:50:52.470600Z",
     "iopub.status.idle": "2021-03-06T09:50:52.485560Z",
     "shell.execute_reply": "2021-03-06T09:50:52.484563Z",
     "shell.execute_reply.started": "2021-03-06T09:50:52.470600Z"
    }
   },
   "outputs": [
    {
     "name": "stdout",
     "output_type": "stream",
     "text": [
      "                  Date  Close  Start   High    Low  Volume\n",
      "new_Date                                                  \n",
      "2018-06-25  2018-06-25  11150  11400  11450  11000   55519\n",
      "2018-06-22  2018-06-22  11300  11250  11450  10750  134805\n",
      "2018-06-21  2018-06-21  11200  11350  11750  11200  133002\n",
      "2018-06-20  2018-06-20  11550  11200  11600  10900  308596\n"
     ]
    }
   ],
   "source": [
    "print(df['2018-06-25':'2018-06-20'])"
   ]
  },
  {
   "cell_type": "code",
   "execution_count": 50,
   "metadata": {
    "execution": {
     "iopub.execute_input": "2021-03-06T09:50:52.486558Z",
     "iopub.status.busy": "2021-03-06T09:50:52.485560Z",
     "iopub.status.idle": "2021-03-06T09:50:52.500520Z",
     "shell.execute_reply": "2021-03-06T09:50:52.499523Z",
     "shell.execute_reply.started": "2021-03-06T09:50:52.486558Z"
    }
   },
   "outputs": [],
   "source": [
    "today = pd.to_datetime('2018-12-25')\n",
    "df['time_delta'] = today - df.index\n",
    "df.set_index('time_delta', inplace=True)"
   ]
  },
  {
   "cell_type": "code",
   "execution_count": 51,
   "metadata": {
    "execution": {
     "iopub.execute_input": "2021-03-06T09:50:52.501518Z",
     "iopub.status.busy": "2021-03-06T09:50:52.501518Z",
     "iopub.status.idle": "2021-03-06T09:50:52.515480Z",
     "shell.execute_reply": "2021-03-06T09:50:52.514482Z",
     "shell.execute_reply.started": "2021-03-06T09:50:52.501518Z"
    }
   },
   "outputs": [
    {
     "name": "stdout",
     "output_type": "stream",
     "text": [
      "                  Date  Close  Start   High    Low  Volume\n",
      "time_delta                                                \n",
      "176 days    2018-07-02  10100  10850  10900  10000  137977\n",
      "179 days    2018-06-29  10700  10550  10900   9990  170253\n",
      "180 days    2018-06-28  10400  10900  10950  10150  155769\n"
     ]
    }
   ],
   "source": [
    "print(df['170 days':'180 days'])"
   ]
  }
 ],
 "metadata": {
  "kernelspec": {
   "display_name": "Python 3",
   "language": "python",
   "name": "python3"
  },
  "language_info": {
   "codemirror_mode": {
    "name": "ipython",
    "version": 3
   },
   "file_extension": ".py",
   "mimetype": "text/x-python",
   "name": "python",
   "nbconvert_exporter": "python",
   "pygments_lexer": "ipython3",
   "version": "3.8.5"
  }
 },
 "nbformat": 4,
 "nbformat_minor": 4
}
