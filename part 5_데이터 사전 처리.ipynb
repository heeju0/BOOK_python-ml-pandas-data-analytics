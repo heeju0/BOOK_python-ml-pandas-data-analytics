{
 "cells": [
  {
   "cell_type": "markdown",
   "metadata": {},
   "source": [
    "# Part 5. 데이터 사전 처리"
   ]
  },
  {
   "cell_type": "markdown",
   "metadata": {},
   "source": [
    "### 1. 누락 데이터 처리"
   ]
  },
  {
   "cell_type": "markdown",
   "metadata": {},
   "source": [
    "##### <예제 5-1> 누락 데이터 확인"
   ]
  },
  {
   "cell_type": "code",
   "execution_count": 1,
   "metadata": {
    "execution": {
     "iopub.execute_input": "2021-03-04T08:57:56.828207Z",
     "iopub.status.busy": "2021-03-04T08:57:56.828207Z",
     "iopub.status.idle": "2021-03-04T08:58:02.478816Z",
     "shell.execute_reply": "2021-03-04T08:58:02.477815Z",
     "shell.execute_reply.started": "2021-03-04T08:57:56.828207Z"
    }
   },
   "outputs": [],
   "source": [
    "import seaborn as sns\n",
    "import warnings\n",
    "warnings.filterwarnings('ignore')"
   ]
  },
  {
   "cell_type": "code",
   "execution_count": 2,
   "metadata": {
    "execution": {
     "iopub.execute_input": "2021-03-04T08:58:25.049662Z",
     "iopub.status.busy": "2021-03-04T08:58:25.049662Z",
     "iopub.status.idle": "2021-03-04T08:58:25.118477Z",
     "shell.execute_reply": "2021-03-04T08:58:25.117479Z",
     "shell.execute_reply.started": "2021-03-04T08:58:25.049662Z"
    }
   },
   "outputs": [
    {
     "name": "stdout",
     "output_type": "stream",
     "text": [
      "<class 'pandas.core.frame.DataFrame'>\n",
      "RangeIndex: 891 entries, 0 to 890\n",
      "Data columns (total 15 columns):\n",
      " #   Column       Non-Null Count  Dtype   \n",
      "---  ------       --------------  -----   \n",
      " 0   survived     891 non-null    int64   \n",
      " 1   pclass       891 non-null    int64   \n",
      " 2   sex          891 non-null    object  \n",
      " 3   age          714 non-null    float64 \n",
      " 4   sibsp        891 non-null    int64   \n",
      " 5   parch        891 non-null    int64   \n",
      " 6   fare         891 non-null    float64 \n",
      " 7   embarked     889 non-null    object  \n",
      " 8   class        891 non-null    category\n",
      " 9   who          891 non-null    object  \n",
      " 10  adult_male   891 non-null    bool    \n",
      " 11  deck         203 non-null    category\n",
      " 12  embark_town  889 non-null    object  \n",
      " 13  alive        891 non-null    object  \n",
      " 14  alone        891 non-null    bool    \n",
      "dtypes: bool(2), category(2), float64(2), int64(4), object(5)\n",
      "memory usage: 80.7+ KB\n"
     ]
    }
   ],
   "source": [
    "df = sns.load_dataset('titanic')\n",
    "df.info()"
   ]
  },
  {
   "cell_type": "code",
   "execution_count": 11,
   "metadata": {
    "execution": {
     "iopub.execute_input": "2021-03-04T09:05:29.044602Z",
     "iopub.status.busy": "2021-03-04T09:05:29.043606Z",
     "iopub.status.idle": "2021-03-04T09:05:29.059564Z",
     "shell.execute_reply": "2021-03-04T09:05:29.058566Z",
     "shell.execute_reply.started": "2021-03-04T09:05:29.044602Z"
    }
   },
   "outputs": [
    {
     "data": {
      "text/plain": [
       "survived         0\n",
       "pclass           0\n",
       "sex              0\n",
       "age            177\n",
       "sibsp            0\n",
       "parch            0\n",
       "fare             0\n",
       "embarked         2\n",
       "class            0\n",
       "who              0\n",
       "adult_male       0\n",
       "deck           688\n",
       "embark_town      2\n",
       "alive            0\n",
       "alone            0\n",
       "dtype: int64"
      ]
     },
     "execution_count": 11,
     "metadata": {},
     "output_type": "execute_result"
    }
   ],
   "source": [
    "df.isnull().sum()"
   ]
  },
  {
   "cell_type": "markdown",
   "metadata": {},
   "source": [
    "##### <예제 5-2> 누락 데이터 제거"
   ]
  },
  {
   "cell_type": "code",
   "execution_count": 13,
   "metadata": {
    "execution": {
     "iopub.execute_input": "2021-03-04T09:07:41.046301Z",
     "iopub.status.busy": "2021-03-04T09:07:41.045304Z",
     "iopub.status.idle": "2021-03-04T09:07:41.065250Z",
     "shell.execute_reply": "2021-03-04T09:07:41.064253Z",
     "shell.execute_reply.started": "2021-03-04T09:07:41.046301Z"
    }
   },
   "outputs": [
    {
     "data": {
      "text/plain": [
       "Index(['survived', 'pclass', 'sex', 'age', 'sibsp', 'parch', 'fare',\n",
       "       'embarked', 'class', 'who', 'adult_male', 'embark_town', 'alive',\n",
       "       'alone'],\n",
       "      dtype='object')"
      ]
     },
     "execution_count": 13,
     "metadata": {},
     "output_type": "execute_result"
    }
   ],
   "source": [
    "df_thresh = df.dropna(axis=1, thresh=500)\n",
    "print(df_thresh.columns)"
   ]
  },
  {
   "cell_type": "code",
   "execution_count": 15,
   "metadata": {
    "execution": {
     "iopub.execute_input": "2021-03-04T09:12:17.597773Z",
     "iopub.status.busy": "2021-03-04T09:12:17.597773Z",
     "iopub.status.idle": "2021-03-04T09:12:17.606749Z",
     "shell.execute_reply": "2021-03-04T09:12:17.605752Z",
     "shell.execute_reply.started": "2021-03-04T09:12:17.597773Z"
    }
   },
   "outputs": [
    {
     "name": "stdout",
     "output_type": "stream",
     "text": [
      "714\n"
     ]
    }
   ],
   "source": [
    "df_age = df.dropna(subset=['age'], how='any', axis=0)\n",
    "print(len(df_age))"
   ]
  },
  {
   "cell_type": "markdown",
   "metadata": {},
   "source": [
    "##### <예제 5-3> 평균으로 누락 데이터 바꾸기"
   ]
  },
  {
   "cell_type": "code",
   "execution_count": 21,
   "metadata": {
    "execution": {
     "iopub.execute_input": "2021-03-04T09:30:38.771376Z",
     "iopub.status.busy": "2021-03-04T09:30:38.771376Z",
     "iopub.status.idle": "2021-03-04T09:30:38.783342Z",
     "shell.execute_reply": "2021-03-04T09:30:38.782345Z",
     "shell.execute_reply.started": "2021-03-04T09:30:38.771376Z"
    }
   },
   "outputs": [
    {
     "data": {
      "text/plain": [
       "0"
      ]
     },
     "execution_count": 21,
     "metadata": {},
     "output_type": "execute_result"
    }
   ],
   "source": [
    "df['age'].fillna(df['age'].mean(axis=0), inplace=True)\n",
    "df['age'].isnull().sum()"
   ]
  },
  {
   "cell_type": "markdown",
   "metadata": {
    "execution": {
     "iopub.execute_input": "2021-03-04T09:30:06.357369Z",
     "iopub.status.busy": "2021-03-04T09:30:06.356371Z",
     "iopub.status.idle": "2021-03-04T09:30:06.377316Z",
     "shell.execute_reply": "2021-03-04T09:30:06.375321Z",
     "shell.execute_reply.started": "2021-03-04T09:30:06.357369Z"
    }
   },
   "source": [
    "##### <예제 5-4> 가장 많이 나타나는 값으로 바꾸기"
   ]
  },
  {
   "cell_type": "code",
   "execution_count": 30,
   "metadata": {
    "execution": {
     "iopub.execute_input": "2021-03-04T09:34:29.836849Z",
     "iopub.status.busy": "2021-03-04T09:34:29.836849Z",
     "iopub.status.idle": "2021-03-04T09:34:29.856796Z",
     "shell.execute_reply": "2021-03-04T09:34:29.855798Z",
     "shell.execute_reply.started": "2021-03-04T09:34:29.836849Z"
    }
   },
   "outputs": [
    {
     "name": "stdout",
     "output_type": "stream",
     "text": [
      "Southampton\n"
     ]
    },
    {
     "data": {
      "text/plain": [
       "0"
      ]
     },
     "execution_count": 30,
     "metadata": {},
     "output_type": "execute_result"
    }
   ],
   "source": [
    "most_freq = df['embark_town'].value_counts(dropna=True).idxmax()\n",
    "print(most_freq)\n",
    "\n",
    "df['embark_town'].fillna(most_freq, inplace=True)\n",
    "df['embark_town'].isnull().sum()"
   ]
  },
  {
   "cell_type": "code",
   "execution_count": 29,
   "metadata": {
    "execution": {
     "iopub.execute_input": "2021-03-04T09:34:08.225290Z",
     "iopub.status.busy": "2021-03-04T09:34:08.225290Z",
     "iopub.status.idle": "2021-03-04T09:34:08.236261Z",
     "shell.execute_reply": "2021-03-04T09:34:08.235263Z",
     "shell.execute_reply.started": "2021-03-04T09:34:08.225290Z"
    }
   },
   "outputs": [
    {
     "data": {
      "text/plain": [
       "2"
      ]
     },
     "execution_count": 29,
     "metadata": {},
     "output_type": "execute_result"
    }
   ],
   "source": [
    "df['embark_town'].isnull().sum()"
   ]
  },
  {
   "cell_type": "code",
   "execution_count": 32,
   "metadata": {
    "execution": {
     "iopub.execute_input": "2021-03-04T09:40:50.815322Z",
     "iopub.status.busy": "2021-03-04T09:40:50.815322Z",
     "iopub.status.idle": "2021-03-04T09:40:50.840256Z",
     "shell.execute_reply": "2021-03-04T09:40:50.838263Z",
     "shell.execute_reply.started": "2021-03-04T09:40:50.815322Z"
    }
   },
   "outputs": [
    {
     "data": {
      "text/plain": [
       "0"
      ]
     },
     "execution_count": 32,
     "metadata": {},
     "output_type": "execute_result"
    }
   ],
   "source": [
    "df = sns.load_dataset('titanic')\n",
    "df['embark_town'].fillna(method='ffill', inplace=True)\n",
    "df['embark_town'].isnull().sum()"
   ]
  },
  {
   "cell_type": "markdown",
   "metadata": {},
   "source": [
    "### 2. 중복 데이터 처리"
   ]
  },
  {
   "cell_type": "markdown",
   "metadata": {},
   "source": [
    "##### <예제 5-6> 중복 데이터 확인"
   ]
  },
  {
   "cell_type": "code",
   "execution_count": 34,
   "metadata": {
    "execution": {
     "iopub.execute_input": "2021-03-04T09:43:50.412745Z",
     "iopub.status.busy": "2021-03-04T09:43:50.411747Z",
     "iopub.status.idle": "2021-03-04T09:43:50.427705Z",
     "shell.execute_reply": "2021-03-04T09:43:50.426730Z",
     "shell.execute_reply.started": "2021-03-04T09:43:50.412745Z"
    }
   },
   "outputs": [
    {
     "name": "stdout",
     "output_type": "stream",
     "text": [
      "  c1  c2  c3\n",
      "0  a   1   1\n",
      "1  a   1   1\n",
      "2  b   1   2\n",
      "3  a   2   2\n",
      "4  b   2   2\n"
     ]
    }
   ],
   "source": [
    "import pandas as pd\n",
    "df = pd.DataFrame({'c1':['a', 'a', 'b', 'a', 'b'],\n",
    "                   'c2':[1, 1, 1, 2, 2],\n",
    "                   'c3':[1, 1, 2, 2, 2]})\n",
    "print(df)"
   ]
  },
  {
   "cell_type": "code",
   "execution_count": 37,
   "metadata": {
    "execution": {
     "iopub.execute_input": "2021-03-04T09:45:11.471343Z",
     "iopub.status.busy": "2021-03-04T09:45:11.471343Z",
     "iopub.status.idle": "2021-03-04T09:45:11.482312Z",
     "shell.execute_reply": "2021-03-04T09:45:11.481344Z",
     "shell.execute_reply.started": "2021-03-04T09:45:11.471343Z"
    }
   },
   "outputs": [
    {
     "data": {
      "text/plain": [
       "0    False\n",
       "1     True\n",
       "2    False\n",
       "3     True\n",
       "4     True\n",
       "Name: c1, dtype: bool"
      ]
     },
     "execution_count": 37,
     "metadata": {},
     "output_type": "execute_result"
    }
   ],
   "source": [
    "df['c1'].duplicated()"
   ]
  },
  {
   "cell_type": "code",
   "execution_count": 41,
   "metadata": {
    "execution": {
     "iopub.execute_input": "2021-03-04T09:51:18.479307Z",
     "iopub.status.busy": "2021-03-04T09:51:18.479307Z",
     "iopub.status.idle": "2021-03-04T09:51:18.499254Z",
     "shell.execute_reply": "2021-03-04T09:51:18.498255Z",
     "shell.execute_reply.started": "2021-03-04T09:51:18.479307Z"
    }
   },
   "outputs": [
    {
     "name": "stdout",
     "output_type": "stream",
     "text": [
      "  c1  c2  c3\n",
      "0  a   1   1\n",
      "2  b   1   2\n",
      "3  a   2   2\n"
     ]
    }
   ],
   "source": [
    "df.drop_duplicates(subset=['c2', 'c3'], inplace=True)\n",
    "print(df)"
   ]
  },
  {
   "cell_type": "markdown",
   "metadata": {},
   "source": [
    "### 3. 데이터 표준화"
   ]
  },
  {
   "cell_type": "markdown",
   "metadata": {},
   "source": [
    "##### <예제 5-8> 단위환산"
   ]
  },
  {
   "cell_type": "code",
   "execution_count": 43,
   "metadata": {
    "execution": {
     "iopub.execute_input": "2021-03-04T10:46:26.686369Z",
     "iopub.status.busy": "2021-03-04T10:46:26.686369Z",
     "iopub.status.idle": "2021-03-04T10:46:26.712299Z",
     "shell.execute_reply": "2021-03-04T10:46:26.711324Z",
     "shell.execute_reply.started": "2021-03-04T10:46:26.686369Z"
    }
   },
   "outputs": [
    {
     "data": {
      "text/html": [
       "<div>\n",
       "<style scoped>\n",
       "    .dataframe tbody tr th:only-of-type {\n",
       "        vertical-align: middle;\n",
       "    }\n",
       "\n",
       "    .dataframe tbody tr th {\n",
       "        vertical-align: top;\n",
       "    }\n",
       "\n",
       "    .dataframe thead th {\n",
       "        text-align: right;\n",
       "    }\n",
       "</style>\n",
       "<table border=\"1\" class=\"dataframe\">\n",
       "  <thead>\n",
       "    <tr style=\"text-align: right;\">\n",
       "      <th></th>\n",
       "      <th>mpg</th>\n",
       "      <th>cylinders</th>\n",
       "      <th>displacement</th>\n",
       "      <th>horsepower</th>\n",
       "      <th>weight</th>\n",
       "      <th>acceleration</th>\n",
       "      <th>model year</th>\n",
       "      <th>origin</th>\n",
       "      <th>name</th>\n",
       "    </tr>\n",
       "  </thead>\n",
       "  <tbody>\n",
       "    <tr>\n",
       "      <th>0</th>\n",
       "      <td>18.0</td>\n",
       "      <td>8</td>\n",
       "      <td>307.0</td>\n",
       "      <td>130.0</td>\n",
       "      <td>3504.0</td>\n",
       "      <td>12.0</td>\n",
       "      <td>70</td>\n",
       "      <td>1</td>\n",
       "      <td>chevrolet chevelle malibu</td>\n",
       "    </tr>\n",
       "    <tr>\n",
       "      <th>1</th>\n",
       "      <td>15.0</td>\n",
       "      <td>8</td>\n",
       "      <td>350.0</td>\n",
       "      <td>165.0</td>\n",
       "      <td>3693.0</td>\n",
       "      <td>11.5</td>\n",
       "      <td>70</td>\n",
       "      <td>1</td>\n",
       "      <td>buick skylark 320</td>\n",
       "    </tr>\n",
       "    <tr>\n",
       "      <th>2</th>\n",
       "      <td>18.0</td>\n",
       "      <td>8</td>\n",
       "      <td>318.0</td>\n",
       "      <td>150.0</td>\n",
       "      <td>3436.0</td>\n",
       "      <td>11.0</td>\n",
       "      <td>70</td>\n",
       "      <td>1</td>\n",
       "      <td>plymouth satellite</td>\n",
       "    </tr>\n",
       "  </tbody>\n",
       "</table>\n",
       "</div>"
      ],
      "text/plain": [
       "    mpg  cylinders  displacement horsepower  weight  acceleration  model year  \\\n",
       "0  18.0          8         307.0      130.0  3504.0          12.0          70   \n",
       "1  15.0          8         350.0      165.0  3693.0          11.5          70   \n",
       "2  18.0          8         318.0      150.0  3436.0          11.0          70   \n",
       "\n",
       "   origin                       name  \n",
       "0       1  chevrolet chevelle malibu  \n",
       "1       1          buick skylark 320  \n",
       "2       1         plymouth satellite  "
      ]
     },
     "execution_count": 43,
     "metadata": {},
     "output_type": "execute_result"
    }
   ],
   "source": [
    "df = pd.read_csv('part5/auto-mpg.csv', header=None)\n",
    "df.columns = ['mpg', 'cylinders', 'displacement', 'horsepower', 'weight',\n",
    "              'acceleration', 'model year', 'origin', 'name']\n",
    "df.head(3)"
   ]
  },
  {
   "cell_type": "code",
   "execution_count": 44,
   "metadata": {
    "execution": {
     "iopub.execute_input": "2021-03-04T10:48:40.113354Z",
     "iopub.status.busy": "2021-03-04T10:48:40.113354Z",
     "iopub.status.idle": "2021-03-04T10:48:40.133300Z",
     "shell.execute_reply": "2021-03-04T10:48:40.132332Z",
     "shell.execute_reply.started": "2021-03-04T10:48:40.113354Z"
    }
   },
   "outputs": [
    {
     "name": "stdout",
     "output_type": "stream",
     "text": [
      "    mpg  cylinders  displacement horsepower  weight  acceleration  model year  \\\n",
      "0  18.0          8         307.0      130.0  3504.0          12.0          70   \n",
      "1  15.0          8         350.0      165.0  3693.0          11.5          70   \n",
      "2  18.0          8         318.0      150.0  3436.0          11.0          70   \n",
      "\n",
      "   origin                       name       kpl  \n",
      "0       1  chevrolet chevelle malibu  7.652571  \n",
      "1       1          buick skylark 320  6.377143  \n",
      "2       1         plymouth satellite  7.652571  \n"
     ]
    }
   ],
   "source": [
    "mpg_to_kpl = 1.60934 / 3.78541\n",
    "df['kpl'] = df['mpg'] * mpg_to_kpl\n",
    "print(df.head(3))"
   ]
  },
  {
   "cell_type": "markdown",
   "metadata": {},
   "source": [
    "##### <예제 5-9> 자료형 변환"
   ]
  },
  {
   "cell_type": "code",
   "execution_count": 45,
   "metadata": {
    "execution": {
     "iopub.execute_input": "2021-03-04T10:51:38.809450Z",
     "iopub.status.busy": "2021-03-04T10:51:38.809450Z",
     "iopub.status.idle": "2021-03-04T10:51:38.828400Z",
     "shell.execute_reply": "2021-03-04T10:51:38.827432Z",
     "shell.execute_reply.started": "2021-03-04T10:51:38.809450Z"
    }
   },
   "outputs": [],
   "source": [
    "df = pd.read_csv('part5/auto-mpg.csv', header=None)\n",
    "df.columns = ['mpg', 'cylinders', 'displacement', 'horsepower', 'weight',\n",
    "              'acceleration', 'model year', 'origin', 'name']"
   ]
  },
  {
   "cell_type": "code",
   "execution_count": 48,
   "metadata": {
    "execution": {
     "iopub.execute_input": "2021-03-04T10:51:53.532673Z",
     "iopub.status.busy": "2021-03-04T10:51:53.532673Z",
     "iopub.status.idle": "2021-03-04T10:51:53.553617Z",
     "shell.execute_reply": "2021-03-04T10:51:53.552619Z",
     "shell.execute_reply.started": "2021-03-04T10:51:53.532673Z"
    }
   },
   "outputs": [
    {
     "name": "stdout",
     "output_type": "stream",
     "text": [
      "mpg             float64\n",
      "cylinders         int64\n",
      "displacement    float64\n",
      "horsepower       object\n",
      "weight          float64\n",
      "acceleration    float64\n",
      "model year        int64\n",
      "origin            int64\n",
      "name             object\n",
      "dtype: object\n"
     ]
    }
   ],
   "source": [
    "print(df.dtypes)"
   ]
  },
  {
   "cell_type": "code",
   "execution_count": 49,
   "metadata": {
    "execution": {
     "iopub.execute_input": "2021-03-04T10:53:03.066951Z",
     "iopub.status.busy": "2021-03-04T10:53:03.066951Z",
     "iopub.status.idle": "2021-03-04T10:53:03.083905Z",
     "shell.execute_reply": "2021-03-04T10:53:03.082906Z",
     "shell.execute_reply.started": "2021-03-04T10:53:03.066951Z"
    }
   },
   "outputs": [
    {
     "data": {
      "text/plain": [
       "array(['130.0', '165.0', '150.0', '140.0', '198.0', '220.0', '215.0',\n",
       "       '225.0', '190.0', '170.0', '160.0', '95.00', '97.00', '85.00',\n",
       "       '88.00', '46.00', '87.00', '90.00', '113.0', '200.0', '210.0',\n",
       "       '193.0', '?', '100.0', '105.0', '175.0', '153.0', '180.0', '110.0',\n",
       "       '72.00', '86.00', '70.00', '76.00', '65.00', '69.00', '60.00',\n",
       "       '80.00', '54.00', '208.0', '155.0', '112.0', '92.00', '145.0',\n",
       "       '137.0', '158.0', '167.0', '94.00', '107.0', '230.0', '49.00',\n",
       "       '75.00', '91.00', '122.0', '67.00', '83.00', '78.00', '52.00',\n",
       "       '61.00', '93.00', '148.0', '129.0', '96.00', '71.00', '98.00',\n",
       "       '115.0', '53.00', '81.00', '79.00', '120.0', '152.0', '102.0',\n",
       "       '108.0', '68.00', '58.00', '149.0', '89.00', '63.00', '48.00',\n",
       "       '66.00', '139.0', '103.0', '125.0', '133.0', '138.0', '135.0',\n",
       "       '142.0', '77.00', '62.00', '132.0', '84.00', '64.00', '74.00',\n",
       "       '116.0', '82.00'], dtype=object)"
      ]
     },
     "execution_count": 49,
     "metadata": {},
     "output_type": "execute_result"
    }
   ],
   "source": [
    "df['horsepower'].unique()"
   ]
  },
  {
   "cell_type": "code",
   "execution_count": 51,
   "metadata": {
    "execution": {
     "iopub.execute_input": "2021-03-04T10:53:31.839207Z",
     "iopub.status.busy": "2021-03-04T10:53:31.838210Z",
     "iopub.status.idle": "2021-03-04T10:53:31.851175Z",
     "shell.execute_reply": "2021-03-04T10:53:31.850179Z",
     "shell.execute_reply.started": "2021-03-04T10:53:31.839207Z"
    }
   },
   "outputs": [
    {
     "name": "stdout",
     "output_type": "stream",
     "text": [
      "float64\n"
     ]
    }
   ],
   "source": [
    "import numpy as np\n",
    "df['horsepower'].replace('?', np.nan, inplace=True)\n",
    "df.dropna(subset=['horsepower'], axis=0, inplace=True)\n",
    "df['horsepower'] = df['horsepower'].astype('float')\n",
    "print(df['horsepower'].dtypes)"
   ]
  },
  {
   "cell_type": "code",
   "execution_count": 53,
   "metadata": {
    "execution": {
     "iopub.execute_input": "2021-03-04T10:55:36.829763Z",
     "iopub.status.busy": "2021-03-04T10:55:36.829763Z",
     "iopub.status.idle": "2021-03-04T10:55:36.849710Z",
     "shell.execute_reply": "2021-03-04T10:55:36.848713Z",
     "shell.execute_reply.started": "2021-03-04T10:55:36.829763Z"
    }
   },
   "outputs": [
    {
     "name": "stdout",
     "output_type": "stream",
     "text": [
      "category\n"
     ]
    }
   ],
   "source": [
    "df['origin'].replace({1:'USA', 2:'EU', 3:'JPN'}, inplace=True)\n",
    "df['origin'] = df['origin'].astype('category')\n",
    "print(df['origin'].dtypes)"
   ]
  },
  {
   "cell_type": "code",
   "execution_count": 54,
   "metadata": {
    "execution": {
     "iopub.execute_input": "2021-03-04T10:55:52.139774Z",
     "iopub.status.busy": "2021-03-04T10:55:52.139774Z",
     "iopub.status.idle": "2021-03-04T10:55:52.159723Z",
     "shell.execute_reply": "2021-03-04T10:55:52.158725Z",
     "shell.execute_reply.started": "2021-03-04T10:55:52.139774Z"
    }
   },
   "outputs": [
    {
     "data": {
      "text/plain": [
       "0      USA\n",
       "1      USA\n",
       "2      USA\n",
       "3      USA\n",
       "4      USA\n",
       "      ... \n",
       "393    USA\n",
       "394     EU\n",
       "395    USA\n",
       "396    USA\n",
       "397    USA\n",
       "Name: origin, Length: 392, dtype: category\n",
       "Categories (3, object): ['EU', 'JPN', 'USA']"
      ]
     },
     "execution_count": 54,
     "metadata": {},
     "output_type": "execute_result"
    }
   ],
   "source": [
    "df['origin']"
   ]
  },
  {
   "cell_type": "code",
   "execution_count": 57,
   "metadata": {
    "execution": {
     "iopub.execute_input": "2021-03-04T10:57:46.991142Z",
     "iopub.status.busy": "2021-03-04T10:57:46.990145Z",
     "iopub.status.idle": "2021-03-04T10:57:46.999121Z",
     "shell.execute_reply": "2021-03-04T10:57:46.998123Z",
     "shell.execute_reply.started": "2021-03-04T10:57:46.991142Z"
    }
   },
   "outputs": [
    {
     "name": "stdout",
     "output_type": "stream",
     "text": [
      "category\n"
     ]
    }
   ],
   "source": [
    "df['model year'] = df['model year'].astype('category')\n",
    "print(df['model year'].dtypes)"
   ]
  },
  {
   "cell_type": "markdown",
   "metadata": {},
   "source": [
    "### 4. 범주형(카테고리) 데이터 처리"
   ]
  },
  {
   "cell_type": "markdown",
   "metadata": {},
   "source": [
    "##### <예제 5-10> 데이터 구간 ㅂ누할"
   ]
  },
  {
   "cell_type": "code",
   "execution_count": 59,
   "metadata": {
    "execution": {
     "iopub.execute_input": "2021-03-04T11:23:43.597317Z",
     "iopub.status.busy": "2021-03-04T11:23:43.597317Z",
     "iopub.status.idle": "2021-03-04T11:23:43.611279Z",
     "shell.execute_reply": "2021-03-04T11:23:43.610312Z",
     "shell.execute_reply.started": "2021-03-04T11:23:43.597317Z"
    }
   },
   "outputs": [],
   "source": [
    "df = pd.read_csv('part5/auto-mpg.csv', header=None)\n",
    "df.columns = ['mpg', 'cylinders', 'displacement', 'horsepower', 'weight',\n",
    "              'acceleration', 'model year', 'origin', 'name']\n",
    "\n",
    "df['horsepower'].replace('?', np.nan, inplace=True)\n",
    "df.dropna(subset=['horsepower'], axis=0, inplace=True)\n",
    "df['horsepower'] = df['horsepower'].astype('float')"
   ]
  },
  {
   "cell_type": "code",
   "execution_count": 61,
   "metadata": {
    "execution": {
     "iopub.execute_input": "2021-03-04T11:24:18.734653Z",
     "iopub.status.busy": "2021-03-04T11:24:18.734653Z",
     "iopub.status.idle": "2021-03-04T11:24:18.752605Z",
     "shell.execute_reply": "2021-03-04T11:24:18.751608Z",
     "shell.execute_reply.started": "2021-03-04T11:24:18.734653Z"
    }
   },
   "outputs": [
    {
     "name": "stdout",
     "output_type": "stream",
     "text": [
      "[257 103  32]\n",
      "[ 46.         107.33333333 168.66666667 230.        ]\n"
     ]
    }
   ],
   "source": [
    "count, bin_dividers = np.histogram(df['horsepower'], bins=3)\n",
    "print(count)\n",
    "print(bin_dividers)"
   ]
  },
  {
   "cell_type": "code",
   "execution_count": 64,
   "metadata": {
    "execution": {
     "iopub.execute_input": "2021-03-04T11:30:04.929208Z",
     "iopub.status.busy": "2021-03-04T11:30:04.928211Z",
     "iopub.status.idle": "2021-03-04T11:30:04.947160Z",
     "shell.execute_reply": "2021-03-04T11:30:04.946163Z",
     "shell.execute_reply.started": "2021-03-04T11:30:04.929208Z"
    }
   },
   "outputs": [
    {
     "name": "stdout",
     "output_type": "stream",
     "text": [
      "   horsepower hp_bin\n",
      "0       130.0   보통출력\n",
      "1       165.0   보통출력\n",
      "2       150.0   보통출력\n",
      "3       150.0   보통출력\n",
      "4       140.0   보통출력\n"
     ]
    }
   ],
   "source": [
    "bin_names = ['저출력', '보통출력', '고출력']\n",
    "df['hp_bin'] = pd.cut(df['horsepower'],\n",
    "                      bins=bin_dividers,\n",
    "                      labels=bin_names,\n",
    "                      include_lowest=True)\n",
    "print(df[['horsepower', 'hp_bin']].head())"
   ]
  },
  {
   "cell_type": "markdown",
   "metadata": {},
   "source": [
    "##### <예제 5-11> 더미변수"
   ]
  },
  {
   "cell_type": "code",
   "execution_count": 67,
   "metadata": {
    "execution": {
     "iopub.execute_input": "2021-03-04T11:45:10.140342Z",
     "iopub.status.busy": "2021-03-04T11:45:10.140342Z",
     "iopub.status.idle": "2021-03-04T11:45:10.155303Z",
     "shell.execute_reply": "2021-03-04T11:45:10.154334Z",
     "shell.execute_reply.started": "2021-03-04T11:45:10.140342Z"
    }
   },
   "outputs": [
    {
     "name": "stdout",
     "output_type": "stream",
     "text": [
      "   저출력  보통출력  고출력\n",
      "0    0     1    0\n",
      "1    0     1    0\n",
      "2    0     1    0\n",
      "3    0     1    0\n",
      "4    0     1    0\n"
     ]
    }
   ],
   "source": [
    "horse_dummies = pd.get_dummies(df['hp_bin'])\n",
    "print(horse_dummies.head())"
   ]
  },
  {
   "cell_type": "markdown",
   "metadata": {},
   "source": [
    "##### <예제 5-12> 원핫인코딩, 라벨인코딩"
   ]
  },
  {
   "cell_type": "code",
   "execution_count": 70,
   "metadata": {
    "execution": {
     "iopub.execute_input": "2021-03-04T11:56:35.648377Z",
     "iopub.status.busy": "2021-03-04T11:56:35.648377Z",
     "iopub.status.idle": "2021-03-04T11:56:35.659346Z",
     "shell.execute_reply": "2021-03-04T11:56:35.658350Z",
     "shell.execute_reply.started": "2021-03-04T11:56:35.648377Z"
    }
   },
   "outputs": [
    {
     "name": "stdout",
     "output_type": "stream",
     "text": [
      "[1 1 1 1 1 0 0 0 0 0]\n",
      "<class 'numpy.ndarray'>\n",
      "[[1]\n",
      " [1]\n",
      " [1]\n",
      " [1]\n",
      " [1]\n",
      " [0]\n",
      " [0]\n",
      " [0]\n",
      " [0]\n",
      " [0]]\n",
      "<class 'numpy.ndarray'>\n",
      "  (0, 1)\t1.0\n",
      "  (1, 1)\t1.0\n",
      "  (2, 1)\t1.0\n",
      "  (3, 1)\t1.0\n",
      "  (4, 1)\t1.0\n",
      "  (5, 0)\t1.0\n",
      "  (6, 0)\t1.0\n",
      "  (7, 0)\t1.0\n",
      "  (8, 0)\t1.0\n",
      "  (9, 0)\t1.0\n",
      "<class 'scipy.sparse.csr.csr_matrix'>\n"
     ]
    }
   ],
   "source": [
    "from sklearn import preprocessing\n",
    "\n",
    "# encoder 객체 생성\n",
    "label_encoder = preprocessing.LabelEncoder()\n",
    "onehot_encoder = preprocessing.OneHotEncoder()\n",
    "\n",
    "# label encoder\n",
    "onehot_labeled = label_encoder.fit_transform(df['hp_bin'].head(10))\n",
    "print(onehot_labeled)\n",
    "print(type(onehot_labeled))\n",
    "\n",
    "# 2차원 행렬로 형태 변경\n",
    "onehot_reshaped = onehot_labeled.reshape(len(onehot_labeled), 1)\n",
    "print(onehot_reshaped)\n",
    "print(type(onehot_reshaped))\n",
    "\n",
    "# 희소 행렬로 변환\n",
    "onehot_fitted = onehot_encoder.fit_transform(onehot_reshaped)\n",
    "print(onehot_fitted)\n",
    "print(type(onehot_fitted))"
   ]
  },
  {
   "cell_type": "markdown",
   "metadata": {},
   "source": [
    "## 5. 정규화"
   ]
  },
  {
   "cell_type": "code",
   "execution_count": 75,
   "metadata": {
    "execution": {
     "iopub.execute_input": "2021-03-04T12:22:23.254813Z",
     "iopub.status.busy": "2021-03-04T12:22:23.254813Z",
     "iopub.status.idle": "2021-03-04T12:22:23.274759Z",
     "shell.execute_reply": "2021-03-04T12:22:23.273761Z",
     "shell.execute_reply.started": "2021-03-04T12:22:23.254813Z"
    }
   },
   "outputs": [],
   "source": [
    "df = pd.read_csv('part5/auto-mpg.csv', header=None)\n",
    "df.columns = ['mpg', 'cylinders', 'displacement', 'horsepower', 'weight',\n",
    "              'acceleration', 'model year', 'origin', 'name']\n",
    "\n",
    "df['horsepower'].replace('?', np.nan, inplace=True)\n",
    "df.dropna(subset=['horsepower'], axis=0, inplace=True)\n",
    "df['horsepower'] = df['horsepower'].astype('float')"
   ]
  },
  {
   "cell_type": "markdown",
   "metadata": {},
   "source": [
    "$$x_{new} = \\frac{x}{x_{max}}$$"
   ]
  },
  {
   "cell_type": "code",
   "execution_count": 72,
   "metadata": {
    "execution": {
     "iopub.execute_input": "2021-03-04T12:18:14.004726Z",
     "iopub.status.busy": "2021-03-04T12:18:14.004726Z",
     "iopub.status.idle": "2021-03-04T12:18:14.025672Z",
     "shell.execute_reply": "2021-03-04T12:18:14.024673Z",
     "shell.execute_reply.started": "2021-03-04T12:18:14.004726Z"
    }
   },
   "outputs": [
    {
     "name": "stdout",
     "output_type": "stream",
     "text": [
      "count    392.000000\n",
      "mean     104.469388\n",
      "std       38.491160\n",
      "min       46.000000\n",
      "25%       75.000000\n",
      "50%       93.500000\n",
      "75%      126.000000\n",
      "max      230.000000\n",
      "Name: horsepower, dtype: float64\n"
     ]
    }
   ],
   "source": [
    "print(df['horsepower'].describe())"
   ]
  },
  {
   "cell_type": "code",
   "execution_count": 74,
   "metadata": {
    "execution": {
     "iopub.execute_input": "2021-03-04T12:19:15.113917Z",
     "iopub.status.busy": "2021-03-04T12:19:15.112920Z",
     "iopub.status.idle": "2021-03-04T12:19:15.133833Z",
     "shell.execute_reply": "2021-03-04T12:19:15.132864Z",
     "shell.execute_reply.started": "2021-03-04T12:19:15.113917Z"
    }
   },
   "outputs": [
    {
     "name": "stdout",
     "output_type": "stream",
     "text": [
      "count    392.000000\n",
      "mean       0.454215\n",
      "std        0.167353\n",
      "min        0.200000\n",
      "25%        0.326087\n",
      "50%        0.406522\n",
      "75%        0.547826\n",
      "max        1.000000\n",
      "Name: horsepower, dtype: float64\n"
     ]
    }
   ],
   "source": [
    "# 정규화 1\n",
    "df['horsepower'] = df['horsepower'] / abs(df['horsepower'].max())\n",
    "print(df['horsepower'].describe())"
   ]
  },
  {
   "cell_type": "markdown",
   "metadata": {},
   "source": [
    "$$x_{new} = \\frac{x-x_{min}}{x_{max}-x_{min}}$$"
   ]
  },
  {
   "cell_type": "code",
   "execution_count": 76,
   "metadata": {
    "execution": {
     "iopub.execute_input": "2021-03-04T12:22:26.531699Z",
     "iopub.status.busy": "2021-03-04T12:22:26.531699Z",
     "iopub.status.idle": "2021-03-04T12:22:26.551646Z",
     "shell.execute_reply": "2021-03-04T12:22:26.550648Z",
     "shell.execute_reply.started": "2021-03-04T12:22:26.531699Z"
    }
   },
   "outputs": [
    {
     "name": "stdout",
     "output_type": "stream",
     "text": [
      "count    392.000000\n",
      "mean     104.469388\n",
      "std       38.491160\n",
      "min       46.000000\n",
      "25%       75.000000\n",
      "50%       93.500000\n",
      "75%      126.000000\n",
      "max      230.000000\n",
      "Name: horsepower, dtype: float64\n"
     ]
    }
   ],
   "source": [
    "print(df['horsepower'].describe())"
   ]
  },
  {
   "cell_type": "code",
   "execution_count": 77,
   "metadata": {
    "execution": {
     "iopub.execute_input": "2021-03-04T12:24:40.260539Z",
     "iopub.status.busy": "2021-03-04T12:24:40.259542Z",
     "iopub.status.idle": "2021-03-04T12:24:40.270512Z",
     "shell.execute_reply": "2021-03-04T12:24:40.270512Z",
     "shell.execute_reply.started": "2021-03-04T12:24:40.260539Z"
    }
   },
   "outputs": [
    {
     "name": "stdout",
     "output_type": "stream",
     "text": [
      "count    392.000000\n",
      "mean       0.317768\n",
      "std        0.209191\n",
      "min        0.000000\n",
      "25%        0.157609\n",
      "50%        0.258152\n",
      "75%        0.434783\n",
      "max        1.000000\n",
      "Name: horsepower, dtype: float64\n"
     ]
    }
   ],
   "source": [
    "# 정규화 2\n",
    "min_x = df['horsepower'] - df['horsepower'].min()\n",
    "min_max = df['horsepower'].max() - df['horsepower'].min()\n",
    "df['horsepower'] = min_x / min_max\n",
    "print(df['horsepower'].describe())"
   ]
  },
  {
   "cell_type": "code",
   "execution_count": null,
   "metadata": {},
   "outputs": [],
   "source": []
  }
 ],
 "metadata": {
  "kernelspec": {
   "display_name": "Python 3",
   "language": "python",
   "name": "python3"
  },
  "language_info": {
   "codemirror_mode": {
    "name": "ipython",
    "version": 3
   },
   "file_extension": ".py",
   "mimetype": "text/x-python",
   "name": "python",
   "nbconvert_exporter": "python",
   "pygments_lexer": "ipython3",
   "version": "3.8.5"
  }
 },
 "nbformat": 4,
 "nbformat_minor": 4
}
