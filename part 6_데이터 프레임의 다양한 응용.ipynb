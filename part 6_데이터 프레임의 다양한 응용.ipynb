{
 "cells": [
  {
   "cell_type": "markdown",
   "metadata": {},
   "source": [
    "# Part 6. 데이터 프레임의 다양한 응용"
   ]
  },
  {
   "cell_type": "markdown",
   "metadata": {},
   "source": [
    "### 1. 함수 매핑"
   ]
  },
  {
   "cell_type": "markdown",
   "metadata": {},
   "source": [
    "##### <예제 6-1> 시리즈의 원소에 apply() 적용"
   ]
  },
  {
   "cell_type": "code",
   "execution_count": 2,
   "metadata": {
    "execution": {
     "iopub.execute_input": "2021-03-06T09:52:29.393952Z",
     "iopub.status.busy": "2021-03-06T09:52:29.393952Z",
     "iopub.status.idle": "2021-03-06T09:52:29.405920Z",
     "shell.execute_reply": "2021-03-06T09:52:29.404923Z",
     "shell.execute_reply.started": "2021-03-06T09:52:29.393952Z"
    }
   },
   "outputs": [],
   "source": [
    "import seaborn as sns\n",
    "import warnings\n",
    "warnings.filterwarnings('ignore')"
   ]
  },
  {
   "cell_type": "code",
   "execution_count": 3,
   "metadata": {
    "execution": {
     "iopub.execute_input": "2021-03-06T09:52:57.904090Z",
     "iopub.status.busy": "2021-03-06T09:52:57.904090Z",
     "iopub.status.idle": "2021-03-06T09:52:57.942984Z",
     "shell.execute_reply": "2021-03-06T09:52:57.941987Z",
     "shell.execute_reply.started": "2021-03-06T09:52:57.904090Z"
    }
   },
   "outputs": [
    {
     "name": "stdout",
     "output_type": "stream",
     "text": [
      "    age     fare  ten\n",
      "0  22.0   7.2500   10\n",
      "1  38.0  71.2833   10\n",
      "2  26.0   7.9250   10\n"
     ]
    }
   ],
   "source": [
    "titanic = sns.load_dataset('titanic')\n",
    "df = titanic.loc[:, ['age', 'fare']]\n",
    "df['ten'] = 10\n",
    "print(df.head(3))"
   ]
  },
  {
   "cell_type": "code",
   "execution_count": 5,
   "metadata": {
    "execution": {
     "iopub.execute_input": "2021-03-06T09:53:45.332422Z",
     "iopub.status.busy": "2021-03-06T09:53:45.332422Z",
     "iopub.status.idle": "2021-03-06T09:53:45.352369Z",
     "shell.execute_reply": "2021-03-06T09:53:45.351371Z",
     "shell.execute_reply.started": "2021-03-06T09:53:45.332422Z"
    }
   },
   "outputs": [
    {
     "name": "stdout",
     "output_type": "stream",
     "text": [
      "20\n",
      "20\n"
     ]
    }
   ],
   "source": [
    "def add_10(n):\n",
    "    return n + 10\n",
    "\n",
    "def add_two_obj(a, b):\n",
    "    return a + b\n",
    "\n",
    "print(add_10(10))\n",
    "print(add_two_obj(10, 10))"
   ]
  },
  {
   "cell_type": "code",
   "execution_count": 14,
   "metadata": {
    "execution": {
     "iopub.execute_input": "2021-03-06T10:01:49.451056Z",
     "iopub.status.busy": "2021-03-06T10:01:49.451056Z",
     "iopub.status.idle": "2021-03-06T10:01:49.466017Z",
     "shell.execute_reply": "2021-03-06T10:01:49.465019Z",
     "shell.execute_reply.started": "2021-03-06T10:01:49.451056Z"
    }
   },
   "outputs": [
    {
     "name": "stdout",
     "output_type": "stream",
     "text": [
      "0    32.0\n",
      "1    48.0\n",
      "2    36.0\n",
      "Name: age, dtype: float64\n"
     ]
    }
   ],
   "source": [
    "print(df['age'].apply(add_10).head(3))"
   ]
  },
  {
   "cell_type": "markdown",
   "metadata": {},
   "source": [
    "##### <예제 6-2> 데이터프레임 원소에 applymap() 적용"
   ]
  },
  {
   "cell_type": "code",
   "execution_count": 13,
   "metadata": {
    "execution": {
     "iopub.execute_input": "2021-03-06T10:01:21.405786Z",
     "iopub.status.busy": "2021-03-06T10:01:21.405786Z",
     "iopub.status.idle": "2021-03-06T10:01:21.425733Z",
     "shell.execute_reply": "2021-03-06T10:01:21.424735Z",
     "shell.execute_reply.started": "2021-03-06T10:01:21.405786Z"
    }
   },
   "outputs": [
    {
     "name": "stdout",
     "output_type": "stream",
     "text": [
      "    age     fare\n",
      "0  22.0   7.2500\n",
      "1  38.0  71.2833\n",
      "2  26.0   7.9250\n"
     ]
    }
   ],
   "source": [
    "df = titanic.loc[:, ['age', 'fare']]\n",
    "print(df.head(3))"
   ]
  },
  {
   "cell_type": "code",
   "execution_count": 12,
   "metadata": {
    "execution": {
     "iopub.execute_input": "2021-03-06T10:00:24.293804Z",
     "iopub.status.busy": "2021-03-06T10:00:24.293804Z",
     "iopub.status.idle": "2021-03-06T10:00:24.313751Z",
     "shell.execute_reply": "2021-03-06T10:00:24.312781Z",
     "shell.execute_reply.started": "2021-03-06T10:00:24.293804Z"
    }
   },
   "outputs": [
    {
     "name": "stdout",
     "output_type": "stream",
     "text": [
      "    age     fare\n",
      "0  32.0  17.2500\n",
      "1  48.0  81.2833\n",
      "2  36.0  17.9250\n"
     ]
    }
   ],
   "source": [
    "print(df.applymap(add_10).head(3))"
   ]
  },
  {
   "cell_type": "markdown",
   "metadata": {},
   "source": [
    "##### <예제 6-3> 데이터프레임에 apply(axis=0) 적용"
   ]
  },
  {
   "cell_type": "code",
   "execution_count": 16,
   "metadata": {
    "execution": {
     "iopub.execute_input": "2021-03-06T10:08:24.527091Z",
     "iopub.status.busy": "2021-03-06T10:08:24.526096Z",
     "iopub.status.idle": "2021-03-06T10:08:24.548039Z",
     "shell.execute_reply": "2021-03-06T10:08:24.547042Z",
     "shell.execute_reply.started": "2021-03-06T10:08:24.527091Z"
    }
   },
   "outputs": [
    {
     "name": "stdout",
     "output_type": "stream",
     "text": [
      "     age   fare\n",
      "0  False  False\n",
      "1  False  False\n",
      "2  False  False\n"
     ]
    }
   ],
   "source": [
    "def missing_value(series):\n",
    "    return series.isnull()\n",
    "\n",
    "print(df.apply(missing_value, axis=0).head(3))"
   ]
  },
  {
   "cell_type": "markdown",
   "metadata": {},
   "source": [
    "##### <예제 6-4> 데이터프레임에 apply(axis=0) 적용"
   ]
  },
  {
   "cell_type": "code",
   "execution_count": 24,
   "metadata": {
    "execution": {
     "iopub.execute_input": "2021-03-06T10:10:59.729043Z",
     "iopub.status.busy": "2021-03-06T10:10:59.729043Z",
     "iopub.status.idle": "2021-03-06T10:10:59.746994Z",
     "shell.execute_reply": "2021-03-06T10:10:59.746026Z",
     "shell.execute_reply.started": "2021-03-06T10:10:59.729043Z"
    }
   },
   "outputs": [
    {
     "name": "stdout",
     "output_type": "stream",
     "text": [
      "age      79.5800\n",
      "fare    512.3292\n",
      "dtype: float64\n"
     ]
    }
   ],
   "source": [
    "def min_max(x):\n",
    "    return x.max() - x.min()\n",
    "\n",
    "print(df.apply(min_max))"
   ]
  },
  {
   "cell_type": "markdown",
   "metadata": {},
   "source": [
    "##### <예제 6-5> 데이터프레임에 apply(axis=1) 적용"
   ]
  },
  {
   "cell_type": "code",
   "execution_count": 30,
   "metadata": {
    "execution": {
     "iopub.execute_input": "2021-03-06T10:37:02.507764Z",
     "iopub.status.busy": "2021-03-06T10:37:02.507764Z",
     "iopub.status.idle": "2021-03-06T10:37:02.529704Z",
     "shell.execute_reply": "2021-03-06T10:37:02.528737Z",
     "shell.execute_reply.started": "2021-03-06T10:37:02.507764Z"
    }
   },
   "outputs": [
    {
     "name": "stdout",
     "output_type": "stream",
     "text": [
      "0    32.0\n",
      "1    48.0\n",
      "2    36.0\n",
      "dtype: float64\n"
     ]
    }
   ],
   "source": [
    "def add_two_obj(a, b):\n",
    "    return a + b\n",
    "\n",
    "print(df.apply(lambda x: add_two_obj(x['age'], 10), axis=1).head(3))"
   ]
  },
  {
   "cell_type": "markdown",
   "metadata": {},
   "source": [
    "##### <예제 6-6> 데이터프레임에 pipe() 적용"
   ]
  },
  {
   "cell_type": "code",
   "execution_count": 31,
   "metadata": {
    "execution": {
     "iopub.execute_input": "2021-03-06T10:40:39.481189Z",
     "iopub.status.busy": "2021-03-06T10:40:39.480193Z",
     "iopub.status.idle": "2021-03-06T10:40:39.500168Z",
     "shell.execute_reply": "2021-03-06T10:40:39.499140Z",
     "shell.execute_reply.started": "2021-03-06T10:40:39.481189Z"
    }
   },
   "outputs": [],
   "source": [
    "def missing_value(x):\n",
    "    return x.isnull()\n",
    "\n",
    "def missing_count(x):\n",
    "    return missing_value(x).sum()\n",
    "\n",
    "def total_number_missing(x):\n",
    "    return missing_count(x).sum()"
   ]
  },
  {
   "cell_type": "code",
   "execution_count": 33,
   "metadata": {
    "execution": {
     "iopub.execute_input": "2021-03-06T10:42:23.410745Z",
     "iopub.status.busy": "2021-03-06T10:42:23.409726Z",
     "iopub.status.idle": "2021-03-06T10:42:23.428674Z",
     "shell.execute_reply": "2021-03-06T10:42:23.427677Z",
     "shell.execute_reply.started": "2021-03-06T10:42:23.410745Z"
    }
   },
   "outputs": [],
   "source": [
    "result_df = df.pipe(missing_value)\n",
    "result_series = df.pipe(missing_count)\n",
    "result_value = df.pipe(total_number_missing)"
   ]
  },
  {
   "cell_type": "code",
   "execution_count": 34,
   "metadata": {
    "execution": {
     "iopub.execute_input": "2021-03-06T10:42:39.005570Z",
     "iopub.status.busy": "2021-03-06T10:42:39.005570Z",
     "iopub.status.idle": "2021-03-06T10:42:39.025515Z",
     "shell.execute_reply": "2021-03-06T10:42:39.024518Z",
     "shell.execute_reply.started": "2021-03-06T10:42:39.005570Z"
    }
   },
   "outputs": [
    {
     "name": "stdout",
     "output_type": "stream",
     "text": [
      "     age   fare\n",
      "0  False  False\n",
      "1  False  False\n",
      "2  False  False\n",
      "age     177\n",
      "fare      0\n",
      "dtype: int64\n",
      "177\n"
     ]
    }
   ],
   "source": [
    "print(result_df.head(3))\n",
    "print(result_series)\n",
    "print(result_value)"
   ]
  }
 ],
 "metadata": {
  "kernelspec": {
   "display_name": "Python 3",
   "language": "python",
   "name": "python3"
  },
  "language_info": {
   "codemirror_mode": {
    "name": "ipython",
    "version": 3
   },
   "file_extension": ".py",
   "mimetype": "text/x-python",
   "name": "python",
   "nbconvert_exporter": "python",
   "pygments_lexer": "ipython3",
   "version": "3.8.5"
  }
 },
 "nbformat": 4,
 "nbformat_minor": 4
}
