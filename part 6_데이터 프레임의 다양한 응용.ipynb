{
 "cells": [
  {
   "cell_type": "markdown",
   "metadata": {},
   "source": [
    "# Part 6. 데이터 프레임의 다양한 응용"
   ]
  },
  {
   "cell_type": "markdown",
   "metadata": {},
   "source": [
    "### 1. 함수 매핑"
   ]
  },
  {
   "cell_type": "markdown",
   "metadata": {},
   "source": [
    "##### <예제 6-1> 시리즈의 원소에 apply() 적용"
   ]
  },
  {
   "cell_type": "code",
   "execution_count": 2,
   "metadata": {
    "execution": {
     "iopub.execute_input": "2021-03-06T09:52:29.393952Z",
     "iopub.status.busy": "2021-03-06T09:52:29.393952Z",
     "iopub.status.idle": "2021-03-06T09:52:29.405920Z",
     "shell.execute_reply": "2021-03-06T09:52:29.404923Z",
     "shell.execute_reply.started": "2021-03-06T09:52:29.393952Z"
    }
   },
   "outputs": [],
   "source": [
    "import seaborn as sns\n",
    "import warnings\n",
    "warnings.filterwarnings('ignore')"
   ]
  },
  {
   "cell_type": "code",
   "execution_count": 3,
   "metadata": {
    "execution": {
     "iopub.execute_input": "2021-03-06T09:52:57.904090Z",
     "iopub.status.busy": "2021-03-06T09:52:57.904090Z",
     "iopub.status.idle": "2021-03-06T09:52:57.942984Z",
     "shell.execute_reply": "2021-03-06T09:52:57.941987Z",
     "shell.execute_reply.started": "2021-03-06T09:52:57.904090Z"
    }
   },
   "outputs": [
    {
     "name": "stdout",
     "output_type": "stream",
     "text": [
      "    age     fare  ten\n",
      "0  22.0   7.2500   10\n",
      "1  38.0  71.2833   10\n",
      "2  26.0   7.9250   10\n"
     ]
    }
   ],
   "source": [
    "titanic = sns.load_dataset('titanic')\n",
    "df = titanic.loc[:, ['age', 'fare']]\n",
    "df['ten'] = 10\n",
    "print(df.head(3))"
   ]
  },
  {
   "cell_type": "code",
   "execution_count": 5,
   "metadata": {
    "execution": {
     "iopub.execute_input": "2021-03-06T09:53:45.332422Z",
     "iopub.status.busy": "2021-03-06T09:53:45.332422Z",
     "iopub.status.idle": "2021-03-06T09:53:45.352369Z",
     "shell.execute_reply": "2021-03-06T09:53:45.351371Z",
     "shell.execute_reply.started": "2021-03-06T09:53:45.332422Z"
    }
   },
   "outputs": [
    {
     "name": "stdout",
     "output_type": "stream",
     "text": [
      "20\n",
      "20\n"
     ]
    }
   ],
   "source": [
    "def add_10(n):\n",
    "    return n + 10\n",
    "\n",
    "def add_two_obj(a, b):\n",
    "    return a + b\n",
    "\n",
    "print(add_10(10))\n",
    "print(add_two_obj(10, 10))"
   ]
  },
  {
   "cell_type": "code",
   "execution_count": 14,
   "metadata": {
    "execution": {
     "iopub.execute_input": "2021-03-06T10:01:49.451056Z",
     "iopub.status.busy": "2021-03-06T10:01:49.451056Z",
     "iopub.status.idle": "2021-03-06T10:01:49.466017Z",
     "shell.execute_reply": "2021-03-06T10:01:49.465019Z",
     "shell.execute_reply.started": "2021-03-06T10:01:49.451056Z"
    }
   },
   "outputs": [
    {
     "name": "stdout",
     "output_type": "stream",
     "text": [
      "0    32.0\n",
      "1    48.0\n",
      "2    36.0\n",
      "Name: age, dtype: float64\n"
     ]
    }
   ],
   "source": [
    "print(df['age'].apply(add_10).head(3))"
   ]
  },
  {
   "cell_type": "markdown",
   "metadata": {},
   "source": [
    "##### <예제 6-2> 데이터프레임 원소에 applymap() 적용"
   ]
  },
  {
   "cell_type": "code",
   "execution_count": 13,
   "metadata": {
    "execution": {
     "iopub.execute_input": "2021-03-06T10:01:21.405786Z",
     "iopub.status.busy": "2021-03-06T10:01:21.405786Z",
     "iopub.status.idle": "2021-03-06T10:01:21.425733Z",
     "shell.execute_reply": "2021-03-06T10:01:21.424735Z",
     "shell.execute_reply.started": "2021-03-06T10:01:21.405786Z"
    }
   },
   "outputs": [
    {
     "name": "stdout",
     "output_type": "stream",
     "text": [
      "    age     fare\n",
      "0  22.0   7.2500\n",
      "1  38.0  71.2833\n",
      "2  26.0   7.9250\n"
     ]
    }
   ],
   "source": [
    "df = titanic.loc[:, ['age', 'fare']]\n",
    "print(df.head(3))"
   ]
  },
  {
   "cell_type": "code",
   "execution_count": 12,
   "metadata": {
    "execution": {
     "iopub.execute_input": "2021-03-06T10:00:24.293804Z",
     "iopub.status.busy": "2021-03-06T10:00:24.293804Z",
     "iopub.status.idle": "2021-03-06T10:00:24.313751Z",
     "shell.execute_reply": "2021-03-06T10:00:24.312781Z",
     "shell.execute_reply.started": "2021-03-06T10:00:24.293804Z"
    }
   },
   "outputs": [
    {
     "name": "stdout",
     "output_type": "stream",
     "text": [
      "    age     fare\n",
      "0  32.0  17.2500\n",
      "1  48.0  81.2833\n",
      "2  36.0  17.9250\n"
     ]
    }
   ],
   "source": [
    "print(df.applymap(add_10).head(3))"
   ]
  },
  {
   "cell_type": "markdown",
   "metadata": {},
   "source": [
    "##### <예제 6-3> 데이터프레임에 apply(axis=0) 적용"
   ]
  },
  {
   "cell_type": "code",
   "execution_count": 16,
   "metadata": {
    "execution": {
     "iopub.execute_input": "2021-03-06T10:08:24.527091Z",
     "iopub.status.busy": "2021-03-06T10:08:24.526096Z",
     "iopub.status.idle": "2021-03-06T10:08:24.548039Z",
     "shell.execute_reply": "2021-03-06T10:08:24.547042Z",
     "shell.execute_reply.started": "2021-03-06T10:08:24.527091Z"
    }
   },
   "outputs": [
    {
     "name": "stdout",
     "output_type": "stream",
     "text": [
      "     age   fare\n",
      "0  False  False\n",
      "1  False  False\n",
      "2  False  False\n"
     ]
    }
   ],
   "source": [
    "def missing_value(series):\n",
    "    return series.isnull()\n",
    "\n",
    "print(df.apply(missing_value, axis=0).head(3))"
   ]
  },
  {
   "cell_type": "markdown",
   "metadata": {},
   "source": [
    "##### <예제 6-4> 데이터프레임에 apply(axis=0) 적용"
   ]
  },
  {
   "cell_type": "code",
   "execution_count": 24,
   "metadata": {
    "execution": {
     "iopub.execute_input": "2021-03-06T10:10:59.729043Z",
     "iopub.status.busy": "2021-03-06T10:10:59.729043Z",
     "iopub.status.idle": "2021-03-06T10:10:59.746994Z",
     "shell.execute_reply": "2021-03-06T10:10:59.746026Z",
     "shell.execute_reply.started": "2021-03-06T10:10:59.729043Z"
    }
   },
   "outputs": [
    {
     "name": "stdout",
     "output_type": "stream",
     "text": [
      "age      79.5800\n",
      "fare    512.3292\n",
      "dtype: float64\n"
     ]
    }
   ],
   "source": [
    "def min_max(x):\n",
    "    return x.max() - x.min()\n",
    "\n",
    "print(df.apply(min_max))"
   ]
  },
  {
   "cell_type": "markdown",
   "metadata": {},
   "source": [
    "##### <예제 6-5> 데이터프레임에 apply(axis=1) 적용"
   ]
  },
  {
   "cell_type": "code",
   "execution_count": 30,
   "metadata": {
    "execution": {
     "iopub.execute_input": "2021-03-06T10:37:02.507764Z",
     "iopub.status.busy": "2021-03-06T10:37:02.507764Z",
     "iopub.status.idle": "2021-03-06T10:37:02.529704Z",
     "shell.execute_reply": "2021-03-06T10:37:02.528737Z",
     "shell.execute_reply.started": "2021-03-06T10:37:02.507764Z"
    }
   },
   "outputs": [
    {
     "name": "stdout",
     "output_type": "stream",
     "text": [
      "0    32.0\n",
      "1    48.0\n",
      "2    36.0\n",
      "dtype: float64\n"
     ]
    }
   ],
   "source": [
    "def add_two_obj(a, b):\n",
    "    return a + b\n",
    "\n",
    "print(df.apply(lambda x: add_two_obj(x['age'], 10), axis=1).head(3))"
   ]
  },
  {
   "cell_type": "markdown",
   "metadata": {},
   "source": [
    "##### <예제 6-6> 데이터프레임에 pipe() 적용"
   ]
  },
  {
   "cell_type": "code",
   "execution_count": 31,
   "metadata": {
    "execution": {
     "iopub.execute_input": "2021-03-06T10:40:39.481189Z",
     "iopub.status.busy": "2021-03-06T10:40:39.480193Z",
     "iopub.status.idle": "2021-03-06T10:40:39.500168Z",
     "shell.execute_reply": "2021-03-06T10:40:39.499140Z",
     "shell.execute_reply.started": "2021-03-06T10:40:39.481189Z"
    }
   },
   "outputs": [],
   "source": [
    "def missing_value(x):\n",
    "    return x.isnull()\n",
    "\n",
    "def missing_count(x):\n",
    "    return missing_value(x).sum()\n",
    "\n",
    "def total_number_missing(x):\n",
    "    return missing_count(x).sum()"
   ]
  },
  {
   "cell_type": "code",
   "execution_count": 33,
   "metadata": {
    "execution": {
     "iopub.execute_input": "2021-03-06T10:42:23.410745Z",
     "iopub.status.busy": "2021-03-06T10:42:23.409726Z",
     "iopub.status.idle": "2021-03-06T10:42:23.428674Z",
     "shell.execute_reply": "2021-03-06T10:42:23.427677Z",
     "shell.execute_reply.started": "2021-03-06T10:42:23.410745Z"
    }
   },
   "outputs": [],
   "source": [
    "result_df = df.pipe(missing_value)\n",
    "result_series = df.pipe(missing_count)\n",
    "result_value = df.pipe(total_number_missing)"
   ]
  },
  {
   "cell_type": "code",
   "execution_count": 34,
   "metadata": {
    "execution": {
     "iopub.execute_input": "2021-03-06T10:42:39.005570Z",
     "iopub.status.busy": "2021-03-06T10:42:39.005570Z",
     "iopub.status.idle": "2021-03-06T10:42:39.025515Z",
     "shell.execute_reply": "2021-03-06T10:42:39.024518Z",
     "shell.execute_reply.started": "2021-03-06T10:42:39.005570Z"
    }
   },
   "outputs": [
    {
     "name": "stdout",
     "output_type": "stream",
     "text": [
      "     age   fare\n",
      "0  False  False\n",
      "1  False  False\n",
      "2  False  False\n",
      "age     177\n",
      "fare      0\n",
      "dtype: int64\n",
      "177\n"
     ]
    }
   ],
   "source": [
    "print(result_df.head(3))\n",
    "print(result_series)\n",
    "print(result_value)"
   ]
  },
  {
   "cell_type": "markdown",
   "metadata": {},
   "source": [
    "### 2. 열 재구성"
   ]
  },
  {
   "cell_type": "markdown",
   "metadata": {},
   "source": [
    "##### <예제 6-7> 열 순서 바꾸기"
   ]
  },
  {
   "cell_type": "code",
   "execution_count": 1,
   "metadata": {
    "execution": {
     "iopub.execute_input": "2021-03-07T10:15:02.041526Z",
     "iopub.status.busy": "2021-03-07T10:15:02.041526Z",
     "iopub.status.idle": "2021-03-07T10:15:05.245811Z",
     "shell.execute_reply": "2021-03-07T10:15:05.244783Z",
     "shell.execute_reply.started": "2021-03-07T10:15:02.041526Z"
    }
   },
   "outputs": [],
   "source": [
    "import seaborn as sns"
   ]
  },
  {
   "cell_type": "code",
   "execution_count": 3,
   "metadata": {
    "execution": {
     "iopub.execute_input": "2021-03-07T10:15:48.550162Z",
     "iopub.status.busy": "2021-03-07T10:15:48.549165Z",
     "iopub.status.idle": "2021-03-07T10:15:48.581079Z",
     "shell.execute_reply": "2021-03-07T10:15:48.580110Z",
     "shell.execute_reply.started": "2021-03-07T10:15:48.550162Z"
    }
   },
   "outputs": [],
   "source": [
    "titanic = sns.load_dataset('titanic')\n",
    "df = titanic.loc[:, 'survived':'age']"
   ]
  },
  {
   "cell_type": "code",
   "execution_count": 8,
   "metadata": {
    "execution": {
     "iopub.execute_input": "2021-03-07T10:16:50.055996Z",
     "iopub.status.busy": "2021-03-07T10:16:50.054968Z",
     "iopub.status.idle": "2021-03-07T10:16:50.073946Z",
     "shell.execute_reply": "2021-03-07T10:16:50.073946Z",
     "shell.execute_reply.started": "2021-03-07T10:16:50.055996Z"
    }
   },
   "outputs": [
    {
     "name": "stdout",
     "output_type": "stream",
     "text": [
      "   survived  pclass     sex   age\n",
      "0         0       3    male  22.0\n",
      "1         1       1  female  38.0\n",
      "2         1       3  female  26.0\n"
     ]
    }
   ],
   "source": [
    "print(df.head(3))"
   ]
  },
  {
   "cell_type": "code",
   "execution_count": 6,
   "metadata": {
    "execution": {
     "iopub.execute_input": "2021-03-07T10:16:12.644722Z",
     "iopub.status.busy": "2021-03-07T10:16:12.643726Z",
     "iopub.status.idle": "2021-03-07T10:16:12.653698Z",
     "shell.execute_reply": "2021-03-07T10:16:12.652701Z",
     "shell.execute_reply.started": "2021-03-07T10:16:12.644722Z"
    }
   },
   "outputs": [
    {
     "name": "stdout",
     "output_type": "stream",
     "text": [
      "['survived', 'pclass', 'sex', 'age']\n"
     ]
    }
   ],
   "source": [
    "columns = list(df.columns.values)\n",
    "print(columns)"
   ]
  },
  {
   "cell_type": "code",
   "execution_count": 7,
   "metadata": {
    "execution": {
     "iopub.execute_input": "2021-03-07T10:16:42.916685Z",
     "iopub.status.busy": "2021-03-07T10:16:42.915688Z",
     "iopub.status.idle": "2021-03-07T10:16:42.925661Z",
     "shell.execute_reply": "2021-03-07T10:16:42.924664Z",
     "shell.execute_reply.started": "2021-03-07T10:16:42.916685Z"
    }
   },
   "outputs": [
    {
     "name": "stdout",
     "output_type": "stream",
     "text": [
      "    age  pclass     sex  survived\n",
      "0  22.0       3    male         0\n",
      "1  38.0       1  female         1\n",
      "2  26.0       3  female         1\n"
     ]
    }
   ],
   "source": [
    "columns_sorted = sorted(columns)\n",
    "df_sorted = df[columns_sorted]\n",
    "print(df_sorted.head(3))"
   ]
  },
  {
   "cell_type": "code",
   "execution_count": 13,
   "metadata": {
    "execution": {
     "iopub.execute_input": "2021-03-07T10:18:36.382345Z",
     "iopub.status.busy": "2021-03-07T10:18:36.382345Z",
     "iopub.status.idle": "2021-03-07T10:18:36.405284Z",
     "shell.execute_reply": "2021-03-07T10:18:36.404287Z",
     "shell.execute_reply.started": "2021-03-07T10:18:36.382345Z"
    }
   },
   "outputs": [
    {
     "name": "stdout",
     "output_type": "stream",
     "text": [
      "    age     sex  pclass  survived\n",
      "0  22.0    male       3         0\n",
      "1  38.0  female       1         1\n",
      "2  26.0  female       3         1\n"
     ]
    }
   ],
   "source": [
    "columns_reversed = list(reversed(columns))\n",
    "df_reversed = df[columns_reversed]\n",
    "print(df_reversed.head(3))"
   ]
  },
  {
   "cell_type": "markdown",
   "metadata": {},
   "source": [
    "##### <예제 6-8> 열 분리하기"
   ]
  },
  {
   "cell_type": "code",
   "execution_count": 14,
   "metadata": {
    "execution": {
     "iopub.execute_input": "2021-03-07T11:31:12.858532Z",
     "iopub.status.busy": "2021-03-07T11:31:12.858532Z",
     "iopub.status.idle": "2021-03-07T11:31:12.867507Z",
     "shell.execute_reply": "2021-03-07T11:31:12.866539Z",
     "shell.execute_reply.started": "2021-03-07T11:31:12.858532Z"
    }
   },
   "outputs": [],
   "source": [
    "import pandas as pd"
   ]
  },
  {
   "cell_type": "code",
   "execution_count": 31,
   "metadata": {
    "execution": {
     "iopub.execute_input": "2021-03-07T11:53:33.876722Z",
     "iopub.status.busy": "2021-03-07T11:53:33.875725Z",
     "iopub.status.idle": "2021-03-07T11:53:33.916615Z",
     "shell.execute_reply": "2021-03-07T11:53:33.915617Z",
     "shell.execute_reply.started": "2021-03-07T11:53:33.876722Z"
    }
   },
   "outputs": [
    {
     "name": "stdout",
     "output_type": "stream",
     "text": [
      "         연월일     거래량\n",
      "0 2018-07-02  137977\n",
      "1 2018-06-29  170253\n",
      "2 2018-06-28  155769\n",
      "연월일    datetime64[ns]\n",
      "거래량             int64\n",
      "dtype: object\n"
     ]
    }
   ],
   "source": [
    "stock = pd.read_excel('part6/주가데이터.xlsx')\n",
    "df = stock[['연월일', '거래량']]\n",
    "print(df.head(3))\n",
    "print(df.dtypes)"
   ]
  },
  {
   "cell_type": "code",
   "execution_count": 33,
   "metadata": {
    "execution": {
     "iopub.execute_input": "2021-03-07T11:54:34.190924Z",
     "iopub.status.busy": "2021-03-07T11:54:34.189915Z",
     "iopub.status.idle": "2021-03-07T11:54:34.206870Z",
     "shell.execute_reply": "2021-03-07T11:54:34.205904Z",
     "shell.execute_reply.started": "2021-03-07T11:54:34.190924Z"
    }
   },
   "outputs": [],
   "source": [
    "df['연월일'] = df['연월일'].astype('str')"
   ]
  },
  {
   "cell_type": "code",
   "execution_count": 34,
   "metadata": {
    "execution": {
     "iopub.execute_input": "2021-03-07T11:54:34.812469Z",
     "iopub.status.busy": "2021-03-07T11:54:34.811490Z",
     "iopub.status.idle": "2021-03-07T11:54:34.833414Z",
     "shell.execute_reply": "2021-03-07T11:54:34.832447Z",
     "shell.execute_reply.started": "2021-03-07T11:54:34.812469Z"
    }
   },
   "outputs": [
    {
     "name": "stdout",
     "output_type": "stream",
     "text": [
      "0    [2018, 07, 02]\n",
      "1    [2018, 06, 29]\n",
      "2    [2018, 06, 28]\n",
      "Name: 연월일, dtype: object\n"
     ]
    }
   ],
   "source": [
    "dates = df['연월일'].str.split('-')\n",
    "print(dates.head(3))"
   ]
  },
  {
   "cell_type": "code",
   "execution_count": 35,
   "metadata": {
    "execution": {
     "iopub.execute_input": "2021-03-07T11:54:54.124061Z",
     "iopub.status.busy": "2021-03-07T11:54:54.123064Z",
     "iopub.status.idle": "2021-03-07T11:54:54.136029Z",
     "shell.execute_reply": "2021-03-07T11:54:54.135031Z",
     "shell.execute_reply.started": "2021-03-07T11:54:54.124061Z"
    }
   },
   "outputs": [
    {
     "name": "stdout",
     "output_type": "stream",
     "text": [
      "          연월일     거래량     연   월   일\n",
      "0  2018-07-02  137977  2018  07  02\n",
      "1  2018-06-29  170253  2018  06  29\n",
      "2  2018-06-28  155769  2018  06  28\n"
     ]
    }
   ],
   "source": [
    "df['연'] = dates.str.get(0)\n",
    "df['월'] = dates.str.get(1)\n",
    "df['일'] = dates.str.get(2)\n",
    "print(df.head(3))"
   ]
  },
  {
   "cell_type": "markdown",
   "metadata": {},
   "source": [
    "### 3. 필터링"
   ]
  },
  {
   "cell_type": "markdown",
   "metadata": {},
   "source": [
    "##### <예제 6-9> 불린 인덱싱"
   ]
  },
  {
   "cell_type": "code",
   "execution_count": 41,
   "metadata": {
    "execution": {
     "iopub.execute_input": "2021-03-07T12:05:55.286316Z",
     "iopub.status.busy": "2021-03-07T12:05:55.286316Z",
     "iopub.status.idle": "2021-03-07T12:05:55.310252Z",
     "shell.execute_reply": "2021-03-07T12:05:55.309256Z",
     "shell.execute_reply.started": "2021-03-07T12:05:55.286316Z"
    }
   },
   "outputs": [
    {
     "name": "stdout",
     "output_type": "stream",
     "text": [
      "    survived  pclass     sex  age  sibsp  parch    fare embarked  class  \\\n",
      "7          0       3    male  2.0      3      1  21.075        S  Third   \n",
      "16         0       3    male  2.0      4      1  29.125        Q  Third   \n",
      "24         0       3  female  8.0      3      1  21.075        S  Third   \n",
      "\n",
      "      who  adult_male deck  embark_town alive  alone  \n",
      "7   child       False  NaN  Southampton    no  False  \n",
      "16  child       False  NaN   Queenstown    no  False  \n",
      "24  child       False  NaN  Southampton    no  False  \n"
     ]
    }
   ],
   "source": [
    "mask1 = titanic['sibsp'] == 3\n",
    "mask2 = titanic['sibsp'] == 4\n",
    "mask3 = titanic['sibsp'] == 5\n",
    "df_boolean = titanic.loc[mask1 | mask2 | mask3]\n",
    "print(df_boolean.head(3))"
   ]
  },
  {
   "cell_type": "markdown",
   "metadata": {},
   "source": [
    "##### <예제 6-10> isin() 필터링"
   ]
  },
  {
   "cell_type": "code",
   "execution_count": 42,
   "metadata": {
    "execution": {
     "iopub.execute_input": "2021-03-07T12:08:01.755488Z",
     "iopub.status.busy": "2021-03-07T12:08:01.755488Z",
     "iopub.status.idle": "2021-03-07T12:08:01.771445Z",
     "shell.execute_reply": "2021-03-07T12:08:01.770478Z",
     "shell.execute_reply.started": "2021-03-07T12:08:01.755488Z"
    }
   },
   "outputs": [
    {
     "name": "stdout",
     "output_type": "stream",
     "text": [
      "    survived  pclass     sex  age  sibsp  parch    fare embarked  class  \\\n",
      "7          0       3    male  2.0      3      1  21.075        S  Third   \n",
      "16         0       3    male  2.0      4      1  29.125        Q  Third   \n",
      "24         0       3  female  8.0      3      1  21.075        S  Third   \n",
      "\n",
      "      who  adult_male deck  embark_town alive  alone  \n",
      "7   child       False  NaN  Southampton    no  False  \n",
      "16  child       False  NaN   Queenstown    no  False  \n",
      "24  child       False  NaN  Southampton    no  False  \n"
     ]
    }
   ],
   "source": [
    "isin_filter = titanic['sibsp'].isin([3, 4, 5])\n",
    "df_isin = titanic[isin_filter]\n",
    "print(df_isin.head(3))"
   ]
  },
  {
   "cell_type": "markdown",
   "metadata": {},
   "source": [
    "### 4. 데이터프레임 합치기"
   ]
  },
  {
   "cell_type": "markdown",
   "metadata": {},
   "source": [
    "##### <예제 6-11> 데이터프레임 연결(concatenate)"
   ]
  },
  {
   "cell_type": "code",
   "execution_count": 44,
   "metadata": {
    "execution": {
     "iopub.execute_input": "2021-03-07T12:53:45.292680Z",
     "iopub.status.busy": "2021-03-07T12:53:45.291682Z",
     "iopub.status.idle": "2021-03-07T12:53:45.305645Z",
     "shell.execute_reply": "2021-03-07T12:53:45.304648Z",
     "shell.execute_reply.started": "2021-03-07T12:53:45.292680Z"
    }
   },
   "outputs": [
    {
     "name": "stdout",
     "output_type": "stream",
     "text": [
      "    a   b   c\n",
      "0  a0  b0  c0\n",
      "1  a1  b1  c1\n",
      "2  a2  b2  c2\n",
      "3  a3  b3  c3\n",
      "\n",
      "    a   b   c   d\n",
      "2  a2  b2  c2  d2\n",
      "3  a3  b3  c3  d3\n",
      "4  a4  b4  c4  d4\n",
      "5  a5  b5  c5  d5\n"
     ]
    }
   ],
   "source": [
    "df1 = pd.DataFrame({'a':['a0', 'a1', 'a2', 'a3'],\n",
    "                    'b':['b0', 'b1', 'b2', 'b3'],\n",
    "                    'c':['c0', 'c1', 'c2', 'c3']},\n",
    "                    index=[0, 1, 2, 3])\n",
    "df2 = pd.DataFrame({'a':['a2', 'a3', 'a4', 'a5'],\n",
    "                    'b':['b2', 'b3', 'b4', 'b5'],\n",
    "                    'c':['c2', 'c3', 'c4', 'c5'],\n",
    "                    'd':['d2', 'd3', 'd4', 'd5']},\n",
    "                    index=[2, 3, 4, 5])\n",
    "print(df1, df2, sep='\\n\\n')"
   ]
  },
  {
   "cell_type": "code",
   "execution_count": 45,
   "metadata": {
    "execution": {
     "iopub.execute_input": "2021-03-07T12:56:57.021663Z",
     "iopub.status.busy": "2021-03-07T12:56:57.021663Z",
     "iopub.status.idle": "2021-03-07T12:56:57.034628Z",
     "shell.execute_reply": "2021-03-07T12:56:57.033632Z",
     "shell.execute_reply.started": "2021-03-07T12:56:57.021663Z"
    }
   },
   "outputs": [
    {
     "name": "stdout",
     "output_type": "stream",
     "text": [
      "    a   b   c    d\n",
      "0  a0  b0  c0  NaN\n",
      "1  a1  b1  c1  NaN\n",
      "2  a2  b2  c2  NaN\n",
      "3  a3  b3  c3  NaN\n",
      "2  a2  b2  c2   d2\n",
      "3  a3  b3  c3   d3\n",
      "4  a4  b4  c4   d4\n",
      "5  a5  b5  c5   d5\n"
     ]
    }
   ],
   "source": [
    "result1 = pd.concat([df1, df2])\n",
    "print(result1)"
   ]
  },
  {
   "cell_type": "code",
   "execution_count": 46,
   "metadata": {
    "execution": {
     "iopub.execute_input": "2021-03-07T13:09:12.915295Z",
     "iopub.status.busy": "2021-03-07T13:09:12.915295Z",
     "iopub.status.idle": "2021-03-07T13:09:12.936238Z",
     "shell.execute_reply": "2021-03-07T13:09:12.935241Z",
     "shell.execute_reply.started": "2021-03-07T13:09:12.915295Z"
    }
   },
   "outputs": [
    {
     "name": "stdout",
     "output_type": "stream",
     "text": [
      "     a    b    c    a    b    c    d\n",
      "0   a0   b0   c0  NaN  NaN  NaN  NaN\n",
      "1   a1   b1   c1  NaN  NaN  NaN  NaN\n",
      "2   a2   b2   c2   a2   b2   c2   d2\n",
      "3   a3   b3   c3   a3   b3   c3   d3\n",
      "4  NaN  NaN  NaN   a4   b4   c4   d4\n",
      "5  NaN  NaN  NaN   a5   b5   c5   d5\n"
     ]
    }
   ],
   "source": [
    "result2 = pd.concat([df1, df2], axis=1)\n",
    "print(result2)"
   ]
  },
  {
   "cell_type": "code",
   "execution_count": 47,
   "metadata": {
    "execution": {
     "iopub.execute_input": "2021-03-07T13:09:27.639735Z",
     "iopub.status.busy": "2021-03-07T13:09:27.639735Z",
     "iopub.status.idle": "2021-03-07T13:09:27.663645Z",
     "shell.execute_reply": "2021-03-07T13:09:27.662648Z",
     "shell.execute_reply.started": "2021-03-07T13:09:27.639735Z"
    }
   },
   "outputs": [
    {
     "name": "stdout",
     "output_type": "stream",
     "text": [
      "    a   b   c   a   b   c   d\n",
      "2  a2  b2  c2  a2  b2  c2  d2\n",
      "3  a3  b3  c3  a3  b3  c3  d3\n"
     ]
    }
   ],
   "source": [
    "result3 = pd.concat([df1, df2], axis=1, join='inner')\n",
    "print(result3)"
   ]
  },
  {
   "cell_type": "code",
   "execution_count": 57,
   "metadata": {
    "execution": {
     "iopub.execute_input": "2021-03-07T13:38:32.658236Z",
     "iopub.status.busy": "2021-03-07T13:38:32.657237Z",
     "iopub.status.idle": "2021-03-07T13:38:32.676187Z",
     "shell.execute_reply": "2021-03-07T13:38:32.675191Z",
     "shell.execute_reply.started": "2021-03-07T13:38:32.657237Z"
    }
   },
   "outputs": [
    {
     "data": {
      "text/html": [
       "<div>\n",
       "<style scoped>\n",
       "    .dataframe tbody tr th:only-of-type {\n",
       "        vertical-align: middle;\n",
       "    }\n",
       "\n",
       "    .dataframe tbody tr th {\n",
       "        vertical-align: top;\n",
       "    }\n",
       "\n",
       "    .dataframe thead th {\n",
       "        text-align: right;\n",
       "    }\n",
       "</style>\n",
       "<table border=\"1\" class=\"dataframe\">\n",
       "  <thead>\n",
       "    <tr style=\"text-align: right;\">\n",
       "      <th></th>\n",
       "      <th>a</th>\n",
       "      <th>b</th>\n",
       "      <th>c</th>\n",
       "      <th>d</th>\n",
       "      <th>e</th>\n",
       "    </tr>\n",
       "  </thead>\n",
       "  <tbody>\n",
       "    <tr>\n",
       "      <th>2</th>\n",
       "      <td>a2</td>\n",
       "      <td>b2</td>\n",
       "      <td>c2</td>\n",
       "      <td>d2</td>\n",
       "      <td>NaN</td>\n",
       "    </tr>\n",
       "    <tr>\n",
       "      <th>3</th>\n",
       "      <td>a3</td>\n",
       "      <td>b3</td>\n",
       "      <td>c3</td>\n",
       "      <td>d3</td>\n",
       "      <td>e0</td>\n",
       "    </tr>\n",
       "    <tr>\n",
       "      <th>4</th>\n",
       "      <td>a4</td>\n",
       "      <td>b4</td>\n",
       "      <td>c4</td>\n",
       "      <td>d4</td>\n",
       "      <td>e1</td>\n",
       "    </tr>\n",
       "    <tr>\n",
       "      <th>5</th>\n",
       "      <td>a5</td>\n",
       "      <td>b5</td>\n",
       "      <td>c5</td>\n",
       "      <td>d5</td>\n",
       "      <td>e2</td>\n",
       "    </tr>\n",
       "  </tbody>\n",
       "</table>\n",
       "</div>"
      ],
      "text/plain": [
       "    a   b   c   d    e\n",
       "2  a2  b2  c2  d2  NaN\n",
       "3  a3  b3  c3  d3   e0\n",
       "4  a4  b4  c4  d4   e1\n",
       "5  a5  b5  c5  d5   e2"
      ]
     },
     "execution_count": 57,
     "metadata": {},
     "output_type": "execute_result"
    }
   ],
   "source": [
    "sr = pd.Series(['e0', 'e1', 'e2'], name='e', index=[3, 4, 5])\n",
    "pd.concat([df2, sr], axis=1, sort=True)"
   ]
  },
  {
   "cell_type": "code",
   "execution_count": 58,
   "metadata": {
    "execution": {
     "iopub.execute_input": "2021-03-07T13:39:32.643503Z",
     "iopub.status.busy": "2021-03-07T13:39:32.643503Z",
     "iopub.status.idle": "2021-03-07T13:39:32.660456Z",
     "shell.execute_reply": "2021-03-07T13:39:32.659460Z",
     "shell.execute_reply.started": "2021-03-07T13:39:32.643503Z"
    }
   },
   "outputs": [
    {
     "data": {
      "text/html": [
       "<div>\n",
       "<style scoped>\n",
       "    .dataframe tbody tr th:only-of-type {\n",
       "        vertical-align: middle;\n",
       "    }\n",
       "\n",
       "    .dataframe tbody tr th {\n",
       "        vertical-align: top;\n",
       "    }\n",
       "\n",
       "    .dataframe thead th {\n",
       "        text-align: right;\n",
       "    }\n",
       "</style>\n",
       "<table border=\"1\" class=\"dataframe\">\n",
       "  <thead>\n",
       "    <tr style=\"text-align: right;\">\n",
       "      <th></th>\n",
       "      <th>a</th>\n",
       "      <th>b</th>\n",
       "      <th>c</th>\n",
       "      <th>d</th>\n",
       "      <th>e</th>\n",
       "    </tr>\n",
       "  </thead>\n",
       "  <tbody>\n",
       "    <tr>\n",
       "      <th>2</th>\n",
       "      <td>a2</td>\n",
       "      <td>b2</td>\n",
       "      <td>c2</td>\n",
       "      <td>d2</td>\n",
       "      <td>NaN</td>\n",
       "    </tr>\n",
       "    <tr>\n",
       "      <th>3</th>\n",
       "      <td>a3</td>\n",
       "      <td>b3</td>\n",
       "      <td>c3</td>\n",
       "      <td>d3</td>\n",
       "      <td>e0</td>\n",
       "    </tr>\n",
       "    <tr>\n",
       "      <th>4</th>\n",
       "      <td>a4</td>\n",
       "      <td>b4</td>\n",
       "      <td>c4</td>\n",
       "      <td>d4</td>\n",
       "      <td>e1</td>\n",
       "    </tr>\n",
       "    <tr>\n",
       "      <th>5</th>\n",
       "      <td>a5</td>\n",
       "      <td>b5</td>\n",
       "      <td>c5</td>\n",
       "      <td>d5</td>\n",
       "      <td>e2</td>\n",
       "    </tr>\n",
       "  </tbody>\n",
       "</table>\n",
       "</div>"
      ],
      "text/plain": [
       "    a   b   c   d    e\n",
       "2  a2  b2  c2  d2  NaN\n",
       "3  a3  b3  c3  d3   e0\n",
       "4  a4  b4  c4  d4   e1\n",
       "5  a5  b5  c5  d5   e2"
      ]
     },
     "execution_count": 58,
     "metadata": {},
     "output_type": "execute_result"
    }
   ],
   "source": [
    "pd.concat([df2, sr], axis=1, sort=False)"
   ]
  },
  {
   "cell_type": "markdown",
   "metadata": {},
   "source": [
    "##### <예제 6-12> 데이터프레임 합치기(merge)"
   ]
  },
  {
   "cell_type": "code",
   "execution_count": 59,
   "metadata": {
    "execution": {
     "iopub.execute_input": "2021-03-07T14:02:36.644385Z",
     "iopub.status.busy": "2021-03-07T14:02:36.643388Z",
     "iopub.status.idle": "2021-03-07T14:02:36.661369Z",
     "shell.execute_reply": "2021-03-07T14:02:36.660367Z",
     "shell.execute_reply.started": "2021-03-07T14:02:36.644385Z"
    }
   },
   "outputs": [],
   "source": [
    "pd.set_option('display.max_columns', 10)\n",
    "pd.set_option('display.max_colwidth', 20)\n",
    "pd.set_option('display.unicode.east_asian_width', True)"
   ]
  },
  {
   "cell_type": "code",
   "execution_count": 60,
   "metadata": {
    "execution": {
     "iopub.execute_input": "2021-03-07T14:04:03.095078Z",
     "iopub.status.busy": "2021-03-07T14:04:03.095078Z",
     "iopub.status.idle": "2021-03-07T14:04:03.137964Z",
     "shell.execute_reply": "2021-03-07T14:04:03.136995Z",
     "shell.execute_reply.started": "2021-03-07T14:04:03.095078Z"
    }
   },
   "outputs": [],
   "source": [
    "df1 = pd.read_excel('part6/stock price.xlsx')\n",
    "df2 = pd.read_excel('part6/stock valuation.xlsx')"
   ]
  },
  {
   "cell_type": "code",
   "execution_count": 61,
   "metadata": {
    "execution": {
     "iopub.execute_input": "2021-03-07T14:04:14.491109Z",
     "iopub.status.busy": "2021-03-07T14:04:14.490112Z",
     "iopub.status.idle": "2021-03-07T14:04:14.517039Z",
     "shell.execute_reply": "2021-03-07T14:04:14.516077Z",
     "shell.execute_reply.started": "2021-03-07T14:04:14.491109Z"
    }
   },
   "outputs": [
    {
     "name": "stdout",
     "output_type": "stream",
     "text": [
      "       id    stock_name          value   price\n",
      "0  128940      한미약품   59385.666667  421000\n",
      "1  130960        CJ E&M   58540.666667   98900\n",
      "2  138250    엔에스쇼핑   14558.666667   13200\n",
      "3  139480        이마트  239230.833333  254500\n",
      "4  142280  녹십자엠에스     468.833333   10200\n",
      "5  145990        삼양사   82750.000000   82000\n",
      "6  185750        종근당   40293.666667  100500\n",
      "7  192400    쿠쿠홀딩스  179204.666667  177500\n",
      "8  199800          툴젠   -2514.333333  115400\n",
      "9  204210  모두투어리츠    3093.333333    3475\n",
      "\n",
      "\n",
      "       id              name           eps     bps        per       pbr\n",
      "0  130960            CJ E&M   6301.333333   54068  15.695091  1.829178\n",
      "1  136480              하림    274.166667    3551  11.489362  0.887074\n",
      "2  138040    메리츠금융지주   2122.333333   14894   6.313806  0.899691\n",
      "3  139480            이마트  18268.166667  295780  13.931338  0.860437\n",
      "4  145990            삼양사   5741.000000  108090  14.283226  0.758627\n",
      "5  161390        한국타이어   5648.500000   51341   7.453306  0.820007\n",
      "6  181710   NHN엔터테인먼트   2110.166667   78434  30.755864  0.827447\n",
      "7  185750            종근당   3990.333333   40684  25.185866  2.470259\n",
      "8  204210      모두투어리츠     85.166667    5335  40.802348  0.651359\n",
      "9  207940  삼성바이오로직스   4644.166667   60099  89.790059  6.938551\n"
     ]
    }
   ],
   "source": [
    "print(df1)\n",
    "print('\\n')\n",
    "print(df2)"
   ]
  },
  {
   "cell_type": "code",
   "execution_count": 62,
   "metadata": {
    "execution": {
     "iopub.execute_input": "2021-03-07T14:07:56.236962Z",
     "iopub.status.busy": "2021-03-07T14:07:56.235965Z",
     "iopub.status.idle": "2021-03-07T14:07:56.259901Z",
     "shell.execute_reply": "2021-03-07T14:07:56.258903Z",
     "shell.execute_reply.started": "2021-03-07T14:07:56.236962Z"
    }
   },
   "outputs": [
    {
     "name": "stdout",
     "output_type": "stream",
     "text": [
      "       id    stock_name          value   price          name           eps  \\\n",
      "0  130960        CJ E&M   58540.666667   98900        CJ E&M   6301.333333   \n",
      "1  139480        이마트  239230.833333  254500        이마트  18268.166667   \n",
      "2  145990        삼양사   82750.000000   82000        삼양사   5741.000000   \n",
      "3  185750        종근당   40293.666667  100500        종근당   3990.333333   \n",
      "4  204210  모두투어리츠    3093.333333    3475  모두투어리츠     85.166667   \n",
      "\n",
      "      bps        per       pbr  \n",
      "0   54068  15.695091  1.829178  \n",
      "1  295780  13.931338  0.860437  \n",
      "2  108090  14.283226  0.758627  \n",
      "3   40684  25.185866  2.470259  \n",
      "4    5335  40.802348  0.651359  \n"
     ]
    }
   ],
   "source": [
    "merge_inner = pd.merge(df1, df2)\n",
    "print(merge_inner)"
   ]
  },
  {
   "cell_type": "code",
   "execution_count": 74,
   "metadata": {
    "execution": {
     "iopub.execute_input": "2021-03-07T14:24:16.265251Z",
     "iopub.status.busy": "2021-03-07T14:24:16.265251Z",
     "iopub.status.idle": "2021-03-07T14:24:16.293176Z",
     "shell.execute_reply": "2021-03-07T14:24:16.292178Z",
     "shell.execute_reply.started": "2021-03-07T14:24:16.265251Z"
    }
   },
   "outputs": [
    {
     "name": "stdout",
     "output_type": "stream",
     "text": [
      "       id    stock_name          value   price          name           eps  \\\n",
      "0  130960        CJ E&M   58540.666667   98900        CJ E&M   6301.333333   \n",
      "1  139480        이마트  239230.833333  254500        이마트  18268.166667   \n",
      "2  145990        삼양사   82750.000000   82000        삼양사   5741.000000   \n",
      "3  185750        종근당   40293.666667  100500        종근당   3990.333333   \n",
      "4  204210  모두투어리츠    3093.333333    3475  모두투어리츠     85.166667   \n",
      "\n",
      "      bps        per       pbr  \n",
      "0   54068  15.695091  1.829178  \n",
      "1  295780  13.931338  0.860437  \n",
      "2  108090  14.283226  0.758627  \n",
      "3   40684  25.185866  2.470259  \n",
      "4    5335  40.802348  0.651359  \n"
     ]
    }
   ],
   "source": [
    "merge_left = pd.merge(df1, df2, how='inner', left_on=['id', 'stock_name'], right_on=['id', 'name'])\n",
    "print(merge_left)"
   ]
  },
  {
   "cell_type": "code",
   "execution_count": 68,
   "metadata": {
    "execution": {
     "iopub.execute_input": "2021-03-07T14:22:56.725428Z",
     "iopub.status.busy": "2021-03-07T14:22:56.725428Z",
     "iopub.status.idle": "2021-03-07T14:22:56.754350Z",
     "shell.execute_reply": "2021-03-07T14:22:56.753353Z",
     "shell.execute_reply.started": "2021-03-07T14:22:56.725428Z"
    }
   },
   "outputs": [
    {
     "data": {
      "text/html": [
       "<div>\n",
       "<style scoped>\n",
       "    .dataframe tbody tr th:only-of-type {\n",
       "        vertical-align: middle;\n",
       "    }\n",
       "\n",
       "    .dataframe tbody tr th {\n",
       "        vertical-align: top;\n",
       "    }\n",
       "\n",
       "    .dataframe thead th {\n",
       "        text-align: right;\n",
       "    }\n",
       "</style>\n",
       "<table border=\"1\" class=\"dataframe\">\n",
       "  <thead>\n",
       "    <tr style=\"text-align: right;\">\n",
       "      <th></th>\n",
       "      <th>id</th>\n",
       "      <th>name</th>\n",
       "      <th>eps</th>\n",
       "      <th>bps</th>\n",
       "      <th>per</th>\n",
       "      <th>pbr</th>\n",
       "    </tr>\n",
       "  </thead>\n",
       "  <tbody>\n",
       "    <tr>\n",
       "      <th>0</th>\n",
       "      <td>130960</td>\n",
       "      <td>CJ E&amp;M</td>\n",
       "      <td>6301.333333</td>\n",
       "      <td>54068</td>\n",
       "      <td>15.695091</td>\n",
       "      <td>1.829178</td>\n",
       "    </tr>\n",
       "    <tr>\n",
       "      <th>1</th>\n",
       "      <td>136480</td>\n",
       "      <td>하림</td>\n",
       "      <td>274.166667</td>\n",
       "      <td>3551</td>\n",
       "      <td>11.489362</td>\n",
       "      <td>0.887074</td>\n",
       "    </tr>\n",
       "    <tr>\n",
       "      <th>2</th>\n",
       "      <td>138040</td>\n",
       "      <td>메리츠금융지주</td>\n",
       "      <td>2122.333333</td>\n",
       "      <td>14894</td>\n",
       "      <td>6.313806</td>\n",
       "      <td>0.899691</td>\n",
       "    </tr>\n",
       "    <tr>\n",
       "      <th>3</th>\n",
       "      <td>139480</td>\n",
       "      <td>이마트</td>\n",
       "      <td>18268.166667</td>\n",
       "      <td>295780</td>\n",
       "      <td>13.931338</td>\n",
       "      <td>0.860437</td>\n",
       "    </tr>\n",
       "    <tr>\n",
       "      <th>4</th>\n",
       "      <td>145990</td>\n",
       "      <td>삼양사</td>\n",
       "      <td>5741.000000</td>\n",
       "      <td>108090</td>\n",
       "      <td>14.283226</td>\n",
       "      <td>0.758627</td>\n",
       "    </tr>\n",
       "    <tr>\n",
       "      <th>5</th>\n",
       "      <td>161390</td>\n",
       "      <td>한국타이어</td>\n",
       "      <td>5648.500000</td>\n",
       "      <td>51341</td>\n",
       "      <td>7.453306</td>\n",
       "      <td>0.820007</td>\n",
       "    </tr>\n",
       "    <tr>\n",
       "      <th>6</th>\n",
       "      <td>181710</td>\n",
       "      <td>NHN엔터테인먼트</td>\n",
       "      <td>2110.166667</td>\n",
       "      <td>78434</td>\n",
       "      <td>30.755864</td>\n",
       "      <td>0.827447</td>\n",
       "    </tr>\n",
       "    <tr>\n",
       "      <th>7</th>\n",
       "      <td>185750</td>\n",
       "      <td>종근당</td>\n",
       "      <td>3990.333333</td>\n",
       "      <td>40684</td>\n",
       "      <td>25.185866</td>\n",
       "      <td>2.470259</td>\n",
       "    </tr>\n",
       "    <tr>\n",
       "      <th>8</th>\n",
       "      <td>204210</td>\n",
       "      <td>모두투어리츠</td>\n",
       "      <td>85.166667</td>\n",
       "      <td>5335</td>\n",
       "      <td>40.802348</td>\n",
       "      <td>0.651359</td>\n",
       "    </tr>\n",
       "    <tr>\n",
       "      <th>9</th>\n",
       "      <td>207940</td>\n",
       "      <td>삼성바이오로직스</td>\n",
       "      <td>4644.166667</td>\n",
       "      <td>60099</td>\n",
       "      <td>89.790059</td>\n",
       "      <td>6.938551</td>\n",
       "    </tr>\n",
       "  </tbody>\n",
       "</table>\n",
       "</div>"
      ],
      "text/plain": [
       "       id              name           eps     bps        per       pbr\n",
       "0  130960            CJ E&M   6301.333333   54068  15.695091  1.829178\n",
       "1  136480              하림    274.166667    3551  11.489362  0.887074\n",
       "2  138040    메리츠금융지주   2122.333333   14894   6.313806  0.899691\n",
       "3  139480            이마트  18268.166667  295780  13.931338  0.860437\n",
       "4  145990            삼양사   5741.000000  108090  14.283226  0.758627\n",
       "5  161390        한국타이어   5648.500000   51341   7.453306  0.820007\n",
       "6  181710   NHN엔터테인먼트   2110.166667   78434  30.755864  0.827447\n",
       "7  185750            종근당   3990.333333   40684  25.185866  2.470259\n",
       "8  204210      모두투어리츠     85.166667    5335  40.802348  0.651359\n",
       "9  207940  삼성바이오로직스   4644.166667   60099  89.790059  6.938551"
      ]
     },
     "execution_count": 68,
     "metadata": {},
     "output_type": "execute_result"
    }
   ],
   "source": [
    "df2"
   ]
  }
 ],
 "metadata": {
  "kernelspec": {
   "display_name": "Python 3",
   "language": "python",
   "name": "python3"
  },
  "language_info": {
   "codemirror_mode": {
    "name": "ipython",
    "version": 3
   },
   "file_extension": ".py",
   "mimetype": "text/x-python",
   "name": "python",
   "nbconvert_exporter": "python",
   "pygments_lexer": "ipython3",
   "version": "3.8.5"
  }
 },
 "nbformat": 4,
 "nbformat_minor": 4
}
